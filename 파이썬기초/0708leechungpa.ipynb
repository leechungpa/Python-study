{
 "cells": [
  {
   "cell_type": "code",
   "execution_count": 12,
   "metadata": {},
   "outputs": [
    {
     "name": "stdout",
     "output_type": "stream",
     "text": [
      "pattern A\n",
      "1 \n",
      "1 2 \n",
      "1 2 3 \n",
      "1 2 3 4 \n",
      "1 2 3 4 5 \n",
      "1 2 3 4 5 6 \n"
     ]
    }
   ],
   "source": [
    "print('pattern A')\n",
    "for i in range(1,7) :\n",
    "    for j in range(1,i+1) :\n",
    "        print(j,end=' ')\n",
    "    print()"
   ]
  },
  {
   "cell_type": "code",
   "execution_count": 15,
   "metadata": {},
   "outputs": [
    {
     "name": "stdout",
     "output_type": "stream",
     "text": [
      "pattern B\n",
      "1 2 3 4 5 6 \n",
      "1 2 3 4 5 \n",
      "1 2 3 4 \n",
      "1 2 3 \n",
      "1 2 \n",
      "1 \n"
     ]
    }
   ],
   "source": [
    "print('pattern B')\n",
    "for i in range(6,0,-1) :\n",
    "    for j in range(1,i+1) :\n",
    "        print(j,end=' ')\n",
    "    print()"
   ]
  },
  {
   "cell_type": "code",
   "execution_count": 16,
   "metadata": {},
   "outputs": [
    {
     "data": {
      "text/plain": [
       "7.0"
      ]
     },
     "execution_count": 16,
     "metadata": {},
     "output_type": "execute_result"
    }
   ],
   "source": [
    "112/16"
   ]
  },
  {
   "cell_type": "code",
   "execution_count": 26,
   "metadata": {},
   "outputs": [
    {
     "name": "stdout",
     "output_type": "stream",
     "text": [
      "1 2 3 \n",
      "4 5 6 \n",
      "7 8 9 \n"
     ]
    }
   ],
   "source": [
    "tb = [[1,2,3],[4,5,6],[7,8,9]]\n",
    "for x in tb :\n",
    "    for y in x :\n",
    "        print(y,end=' ')\n",
    "    print()\n"
   ]
  },
  {
   "cell_type": "code",
   "execution_count": 47,
   "metadata": {},
   "outputs": [
    {
     "name": "stdout",
     "output_type": "stream",
     "text": [
      "a+은 4.30이다.\n",
      "b은 3.00이다.\n"
     ]
    }
   ],
   "source": [
    "cst = {'a+':4.3, 'b':3.0}\n",
    "a = 'b'\n",
    "for k in cst.items():\n",
    "    print(\"{0}은 {1:.2f}이다.\".format(k[0],k[1]))"
   ]
  },
  {
   "cell_type": "code",
   "execution_count": 54,
   "metadata": {},
   "outputs": [
    {
     "name": "stdout",
     "output_type": "stream",
     "text": [
      "int plz :2\n",
      "[2]\n",
      "[]\n"
     ]
    }
   ],
   "source": [
    "n = int(input('int plz :'))\n",
    "if n%2 == 0 :\n",
    "    even =[n]\n",
    "    odd = []\n",
    "else :\n",
    "    even =[]\n",
    "    odd = [n]\n",
    "print(even,odd,sep='\\n')"
   ]
  },
  {
   "cell_type": "code",
   "execution_count": 62,
   "metadata": {},
   "outputs": [
    {
     "name": "stdout",
     "output_type": "stream",
     "text": [
      "25\n",
      "25\n"
     ]
    }
   ],
   "source": [
    "n1 = int(15000**(1/3)//1+1)\n",
    "n2 =1\n",
    "while n2**3<=15000 :\n",
    "    n2+=1\n",
    "print(n1,n2,sep='\\n')"
   ]
  },
  {
   "cell_type": "code",
   "execution_count": 67,
   "metadata": {},
   "outputs": [
    {
     "name": "stdout",
     "output_type": "stream",
     "text": [
      "olny int list plz :[2,3]\n",
      "0\n"
     ]
    }
   ],
   "source": [
    "ls = eval(input('olny int list plz :'))\n",
    "rst = []\n",
    "for n in ls :\n",
    "    if 100<n & n<200 :\n",
    "        rst.append(n)\n",
    "print(sum(rst))"
   ]
  },
  {
   "cell_type": "code",
   "execution_count": 70,
   "metadata": {},
   "outputs": [
    {
     "name": "stdout",
     "output_type": "stream",
     "text": [
      "olny int list plz :[2,3]\n",
      "0\n"
     ]
    }
   ],
   "source": [
    "ls = eval(input('olny int list plz :'))\n",
    "t = 0\n",
    "for n in ls :\n",
    "    if 100<n & n<200 :\n",
    "        t+=n\n",
    "print(t)"
   ]
  },
  {
   "cell_type": "code",
   "execution_count": 68,
   "metadata": {},
   "outputs": [
    {
     "name": "stdout",
     "output_type": "stream",
     "text": [
      "olny int list plz :[5, 100, 202, 4, 5, 99, 8, 7]\n",
      "[100, 202, 4, 8]\n",
      "[5, 5, 99, 7]\n"
     ]
    }
   ],
   "source": [
    "ls = eval(input('olny int list plz :'))\n",
    "even =[]\n",
    "odd =[]\n",
    "for n in ls :\n",
    "    if n%2 :\n",
    "        odd.append(n)\n",
    "    else :\n",
    "        even.append(n)\n",
    "print(even,odd,sep='\\n')"
   ]
  },
  {
   "cell_type": "code",
   "execution_count": 87,
   "metadata": {},
   "outputs": [
    {
     "name": "stdout",
     "output_type": "stream",
     "text": [
      "          1 \n",
      "        1 2 \n",
      "      1 2 3 \n",
      "    1 2 3 4 \n",
      "  1 2 3 4 5 \n"
     ]
    }
   ],
   "source": [
    "for i in range(1,6):\n",
    "    print('  '*(6-i),end='')\n",
    "    for j in range(1,i+1) :\n",
    "        print(j,end=' ')\n",
    "    print()"
   ]
  },
  {
   "cell_type": "code",
   "execution_count": 91,
   "metadata": {},
   "outputs": [
    {
     "name": "stdout",
     "output_type": "stream",
     "text": [
      "['kim', 'kim']\n",
      "['park', 'sung']\n",
      "['kim']\n"
     ]
    }
   ],
   "source": [
    "t = [ ['kim', 'lee', 'kim'], ['park', 'cho', 'sung'], ['kim', 'cho', 'lee', 'gang'] ]\n",
    "ex = [ 'lee', 'cho', 'gang']\n",
    "for i in t :\n",
    "    for j in ex :\n",
    "        if j in i :\n",
    "            i.remove(j)\n",
    "    print(i)"
   ]
  },
  {
   "cell_type": "code",
   "execution_count": 96,
   "metadata": {},
   "outputs": [
    {
     "name": "stdout",
     "output_type": "stream",
     "text": [
      "[kim kim ]\n",
      "[park sung ]\n",
      "[kim ]\n"
     ]
    }
   ],
   "source": [
    "t = [ ['kim', 'lee', 'kim'], ['park', 'cho', 'sung'], ['kim', 'cho', 'lee', 'gang'] ]\n",
    "ex = [ 'lee', 'cho', 'gang']\n",
    "for i in t :\n",
    "    print('[',end='')\n",
    "    for j in i:\n",
    "        if j in ex : \n",
    "            continue\n",
    "        print(j,end=' ')\n",
    "    print(']')"
   ]
  },
  {
   "cell_type": "code",
   "execution_count": 109,
   "metadata": {},
   "outputs": [
    {
     "name": "stdout",
     "output_type": "stream",
     "text": [
      "    *\n",
      "   ***\n",
      "  *****\n",
      " *******\n",
      "*********\n"
     ]
    }
   ],
   "source": [
    "for i in range(1,6) :\n",
    "    print(' '*(5-i),end='')\n",
    "    print('*'*(i*2-1))"
   ]
  },
  {
   "cell_type": "code",
   "execution_count": 132,
   "metadata": {},
   "outputs": [
    {
     "name": "stdout",
     "output_type": "stream",
     "text": [
      "['kimseung', 'bumsoo', 'hwan', 'kin']\n"
     ]
    }
   ],
   "source": [
    "ls = [ 'kin', 'kimseung', 'hwan', 'bumsoo' ]\n",
    "order = []\n",
    "for i in ls : \n",
    "    order.append((len(i),i))\n",
    "order.sort(reverse=True)\n",
    "result =[]\n",
    "for j in order :\n",
    "    result.append(j[1])\n",
    "print(result)"
   ]
  },
  {
   "cell_type": "code",
   "execution_count": 133,
   "metadata": {},
   "outputs": [
    {
     "name": "stdout",
     "output_type": "stream",
     "text": [
      "list plz :[ 'kin', 'kimseung', 'hwan', 'bumsoo' ]\n",
      "['kimseung', 'bumsoo', 'hwan', 'kin']\n"
     ]
    }
   ],
   "source": [
    "ls = eval(input('list plz :'))\n",
    "order = []\n",
    "for i in ls : \n",
    "    order.append((len(i),i))\n",
    "order.sort(reverse=True)\n",
    "result =[]\n",
    "for j in order :\n",
    "    result.append(j[1])\n",
    "print(result)"
   ]
  },
  {
   "cell_type": "code",
   "execution_count": 140,
   "metadata": {},
   "outputs": [
    {
     "name": "stdout",
     "output_type": "stream",
     "text": [
      "multiplies of 2 :  [2, 12, 20, 22, 30]\n"
     ]
    }
   ],
   "source": [
    "ls = [99, 2, 100, 30, -1, 0, 1, 22, 35, 77, 12, 20, 30, 45, 20]\n",
    "ls = set(ls)\n",
    "r2 = []\n",
    "r5 = []\n",
    "r3 = []\n",
    "r7 = []\n",
    "for i in ls :\n",
    "    if 1<i<100 :\n",
    "        if i%2 ==0 : r2.append(i)\n",
    "        if i%3 ==0 : r3.append(i)\n",
    "        if i%5 ==0 : r5.append(i)\n",
    "        if i%7 ==0 : r7.append(i)\n",
    "print('multiplies of 2 : ',r2)"
   ]
  },
  {
   "cell_type": "code",
   "execution_count": 3,
   "metadata": {},
   "outputs": [
    {
     "name": "stdout",
     "output_type": "stream",
     "text": [
      "list plz :[99, 2, 100, 30, -1, 0, 1, 22, 35, 77, 12, 20, 30, 45, 20]\n",
      "multiplies of 2 :  [2, 12, 20, 22, 30]\n",
      "multiplies of 3 :  [12, 30, 45, 99]\n",
      "multiplies of 5:  [20, 30, 35, 45]\n",
      "multiplies of 7:  [35, 77]\n"
     ]
    }
   ],
   "source": [
    "ls = eval(input('list plz :'))\n",
    "ls = list(set(ls))\n",
    "ls.sort()\n",
    "r2 = [] ; r5 = [] ; r3 = [] ; r7 = []\n",
    "for i in ls :\n",
    "    if 1<i<100 :\n",
    "        if i%2 ==0 : r2.append(i)\n",
    "        if i%3 ==0 : r3.append(i)\n",
    "        if i%5 ==0 : r5.append(i)\n",
    "        if i%7 ==0 : r7.append(i)\n",
    "print('multiplies of 2 : ',r2)\n",
    "print('multiplies of 3 : ',r3)\n",
    "print('multiplies of 5: ',r5)\n",
    "print('multiplies of 7: ',r7)"
   ]
  },
  {
   "cell_type": "code",
   "execution_count": 11,
   "metadata": {},
   "outputs": [
    {
     "name": "stdout",
     "output_type": "stream",
     "text": [
      "list plz : [99, 2, 100, 30, -1, 0, 1, 22, 35, 77, 12, 20, 30, 45, 20]\n",
      "multiplies of 2 :  [2, 12, 20, 22, 30]\n",
      "multiplies of 3 :  [12, 30, 45, 99]\n",
      "multiplies of 5 :  [20, 30, 35, 45]\n",
      "multiplies of 7 :  [35, 77]\n"
     ]
    }
   ],
   "source": [
    "ls = eval(input('list plz :'))\n",
    "ls = list(set(ls))\n",
    "ls.sort()\n",
    "r={}\n",
    "for t in (2,3,5,7) :\n",
    "    r[t]=[]\n",
    "    for i in ls :\n",
    "        if (1<i<100) & (i%t ==0) : r[t].append(i)\n",
    "    print('multiplies of %s : '%t,r[t])"
   ]
  },
  {
   "cell_type": "code",
   "execution_count": 4,
   "metadata": {},
   "outputs": [
    {
     "name": "stdout",
     "output_type": "stream",
     "text": [
      "ab'cd\n"
     ]
    }
   ],
   "source": [
    "print('ab\\'cd')"
   ]
  },
  {
   "cell_type": "code",
   "execution_count": 6,
   "metadata": {},
   "outputs": [
    {
     "data": {
      "text/plain": [
       "'dad'"
      ]
     },
     "execution_count": 6,
     "metadata": {},
     "output_type": "execute_result"
    }
   ],
   "source": [
    "'daD'.lower()"
   ]
  },
  {
   "cell_type": "code",
   "execution_count": 10,
   "metadata": {},
   "outputs": [
    {
     "data": {
      "text/plain": [
       "']2.200000['"
      ]
     },
     "execution_count": 10,
     "metadata": {},
     "output_type": "execute_result"
    }
   ],
   "source": [
    "']{:>3f}['.format(2.2)"
   ]
  },
  {
   "cell_type": "code",
   "execution_count": 17,
   "metadata": {},
   "outputs": [
    {
     "data": {
      "text/plain": [
       "']  22  ['"
      ]
     },
     "execution_count": 17,
     "metadata": {},
     "output_type": "execute_result"
    }
   ],
   "source": [
    "']{:^6}['.format('22')"
   ]
  },
  {
   "cell_type": "code",
   "execution_count": 19,
   "metadata": {},
   "outputs": [
    {
     "data": {
      "text/plain": [
       "3"
      ]
     },
     "execution_count": 19,
     "metadata": {},
     "output_type": "execute_result"
    }
   ],
   "source": [
    "int('3')"
   ]
  },
  {
   "cell_type": "code",
   "execution_count": 1,
   "metadata": {},
   "outputs": [
    {
     "name": "stdout",
     "output_type": "stream",
     "text": [
      "id like ******-******* plz :950123-1234567\n",
      "Year : 95\n",
      "Month : 01\n",
      "Day : 23\n",
      "Gender : Male\n"
     ]
    }
   ],
   "source": [
    "id =input('id like ******-******* plz :')\n",
    "l = id.split('-')\n",
    "if l[1][0]=='1':\n",
    "    g='Male'\n",
    "elif  l[1][0]=='3':\n",
    "    g='Female'\n",
    "else :\n",
    "    g='Unknown'\n",
    "print('''Year : {0}\n",
    "Month : {1}\n",
    "Day : {2}\n",
    "Gender : {3}'''.format(id[0:2],id[2:4],id[4:6],g))"
   ]
  },
  {
   "cell_type": "code",
   "execution_count": 3,
   "metadata": {},
   "outputs": [
    {
     "name": "stdout",
     "output_type": "stream",
     "text": [
      "a,b,c,d\n"
     ]
    }
   ],
   "source": [
    "s='a:b:c:d'\n",
    "print(s.replace(':',','))"
   ]
  },
  {
   "cell_type": "code",
   "execution_count": 9,
   "metadata": {},
   "outputs": [
    {
     "name": "stdout",
     "output_type": "stream",
     "text": [
      "name:lee\n",
      "grade:3.2\n",
      "****lee****님은 3.20점을 받았습니다.\n",
      "불합격하였습니다. 56.80점이 부족합니다.\n"
     ]
    }
   ],
   "source": [
    "name = input('name:')\n",
    "grade = float(input('grade:'))\n",
    "print('{:*^11}님은 {:3.2f}점을 받았습니다.'.format(name,grade))\n",
    "if grade >=60:\n",
    "    print('합격입니다.')\n",
    "else :\n",
    "    print('불합격하였습니다. %2.2f점이 부족합니다.'%(60-grade))"
   ]
  },
  {
   "cell_type": "code",
   "execution_count": 15,
   "metadata": {},
   "outputs": [
    {
     "name": "stdout",
     "output_type": "stream",
     "text": [
      "apple은(는) 2300원\n",
      "pizza은(는) 33000원\n",
      "한글은(는) 1000000원\n"
     ]
    }
   ],
   "source": [
    "def price(**kwargs):\n",
    "    for key, value in kwargs.items() : \n",
    "        print(key,'은(는) ',value,'원',sep='')\n",
    "\n",
    "price(apple=2300, pizza=33000,한글=1000000)"
   ]
  }
 ],
 "metadata": {
  "kernelspec": {
   "display_name": "Python 3",
   "language": "python",
   "name": "python3"
  },
  "language_info": {
   "codemirror_mode": {
    "name": "ipython",
    "version": 3
   },
   "file_extension": ".py",
   "mimetype": "text/x-python",
   "name": "python",
   "nbconvert_exporter": "python",
   "pygments_lexer": "ipython3",
   "version": "3.7.7"
  }
 },
 "nbformat": 4,
 "nbformat_minor": 4
}
