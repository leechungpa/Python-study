{
 "cells": [
  {
   "cell_type": "code",
   "execution_count": 1,
   "metadata": {
    "scrolled": false
   },
   "outputs": [
    {
     "name": "stdout",
     "output_type": "stream",
     "text": [
      "apple은(는) 2300원\n",
      "pizza은(는) 33000원\n",
      "한글은(는) 1000000원\n"
     ]
    }
   ],
   "source": [
    "def price(**kwargs):\n",
    "    for key, value in kwargs.items() : \n",
    "        print(key,'은(는) ',value,'원',sep='')\n",
    "\n",
    "price(apple=2300, pizza=33000,한글=1000000)"
   ]
  },
  {
   "cell_type": "code",
   "execution_count": 2,
   "metadata": {},
   "outputs": [
    {
     "name": "stdout",
     "output_type": "stream",
     "text": [
      "(-5.2, 100) (-100, 100) (3, 3)\n"
     ]
    }
   ],
   "source": [
    "def min_max(*args):\n",
    "    return min(args), max(args)\n",
    "\n",
    "print(\n",
    "    min_max(9, -1, 100, 3.2,  -5.2, 0),\n",
    "    min_max(100, -100, 0, 1, 2, 3, 4, 5, -99),\n",
    "    min_max(3)\n",
    ")"
   ]
  },
  {
   "cell_type": "code",
   "execution_count": 3,
   "metadata": {},
   "outputs": [
    {
     "name": "stdout",
     "output_type": "stream",
     "text": [
      "총 함유량: 389\n",
      "총 함유량: 95\n"
     ]
    }
   ],
   "source": [
    "def vitamin_c(**kwargs):\n",
    "    return(sum(kwargs.values()))\n",
    "print(\"총 함유량:\" ,vitamin_c(citron=105,strawberry=94,quince=81,lemon=70,tangerine=39))\n",
    "print(\"총 함유량:\" ,vitamin_c(orange=43, kiwi=27, cherryTomato=21, appe=4))"
   ]
  }
 ],
 "metadata": {
  "kernelspec": {
   "display_name": "Python 3",
   "language": "python",
   "name": "python3"
  },
  "language_info": {
   "codemirror_mode": {
    "name": "ipython",
    "version": 3
   },
   "file_extension": ".py",
   "mimetype": "text/x-python",
   "name": "python",
   "nbconvert_exporter": "python",
   "pygments_lexer": "ipython3",
   "version": "3.7.7"
  },
  "toc": {
   "base_numbering": 1,
   "nav_menu": {},
   "number_sections": true,
   "sideBar": true,
   "skip_h1_title": false,
   "title_cell": "Table of Contents",
   "title_sidebar": "Contents",
   "toc_cell": false,
   "toc_position": {},
   "toc_section_display": true,
   "toc_window_display": false
  }
 },
 "nbformat": 4,
 "nbformat_minor": 4
}
