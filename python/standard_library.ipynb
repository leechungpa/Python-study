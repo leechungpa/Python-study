{
 "cells": [
  {
   "cell_type": "code",
   "execution_count": 6,
   "metadata": {},
   "outputs": [
    {
     "name": "stdout",
     "output_type": "stream",
     "text": [
      "2.0\n",
      "0.5000001943375613\n"
     ]
    }
   ],
   "source": [
    "import math\n",
    "\n",
    "print(math.sqrt(4))\n",
    "print(math.sin(0.523599))"
   ]
  },
  {
   "cell_type": "code",
   "execution_count": 7,
   "metadata": {},
   "outputs": [
    {
     "name": "stdout",
     "output_type": "stream",
     "text": [
      "19.428571428571427\n",
      "19\n"
     ]
    }
   ],
   "source": [
    "import statistics as stat\n",
    "\n",
    "print(stat.mean((22, 20, 17, 17, 18, 19, 23)))\n",
    "print(stat.median((22, 20, 17, 17, 18, 19, 23)))"
   ]
  },
  {
   "cell_type": "code",
   "execution_count": 9,
   "metadata": {},
   "outputs": [
    {
     "name": "stdout",
     "output_type": "stream",
     "text": [
      "<built-in function getcwd>\n",
      "True\n",
      "../../blog\n",
      ".gitignore\n",
      "('../../blog', '.gitignore')\n",
      "('../../blog/.gitignore', '')\n",
      "C:\\Users\\user\\git\\blog\\.gitignore\n",
      "C:\\Users\\user\\git\\py\\python\\~\n"
     ]
    }
   ],
   "source": [
    "import os\n",
    "\n",
    "print(os.getcwd)\n",
    "print(os.path.exists('../../blog/.gitignore'))\n",
    "print(os.path.dirname('../../blog/.gitignore'))\n",
    "print(os.path.basename('../../blog/.gitignore'))\n",
    "print(os.path.split('../../blog/.gitignore'))\n",
    "print(os.path.splitext('../../blog/.gitignore'))\n",
    "print(os.path.abspath('../../blog/.gitignore'))\n",
    "print(os.path.abspath('~'))"
   ]
  }
 ],
 "metadata": {
  "kernelspec": {
   "display_name": "Python 3",
   "language": "python",
   "name": "python3"
  },
  "language_info": {
   "codemirror_mode": {
    "name": "ipython",
    "version": 3
   },
   "file_extension": ".py",
   "mimetype": "text/x-python",
   "name": "python",
   "nbconvert_exporter": "python",
   "pygments_lexer": "ipython3",
   "version": "3.7.7"
  },
  "toc": {
   "base_numbering": 1,
   "nav_menu": {},
   "number_sections": true,
   "sideBar": true,
   "skip_h1_title": false,
   "title_cell": "Table of Contents",
   "title_sidebar": "Contents",
   "toc_cell": false,
   "toc_position": {},
   "toc_section_display": true,
   "toc_window_display": false
  }
 },
 "nbformat": 4,
 "nbformat_minor": 4
}
