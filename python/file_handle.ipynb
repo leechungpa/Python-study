{
 "cells": [
  {
   "cell_type": "code",
   "execution_count": null,
   "metadata": {},
   "outputs": [],
   "source": [
    "with open('0709_filehandleoutput.txt','w') as f:\n",
    "    f.write('tset\\n')\n",
    "    f.write('tset2')"
   ]
  },
  {
   "cell_type": "code",
   "execution_count": null,
   "metadata": {},
   "outputs": [],
   "source": [
    "with open('0709_filehandleoutput.txt','a') as f:\n",
    "    f.write('tset3\\n')\n",
    "    f.write('tset4')"
   ]
  },
  {
   "cell_type": "code",
   "execution_count": null,
   "metadata": {},
   "outputs": [],
   "source": [
    "with open('0709_filehandleoutput.txt','r') as f:\n",
    "    print(f.read())"
   ]
  },
  {
   "cell_type": "code",
   "execution_count": null,
   "metadata": {},
   "outputs": [],
   "source": [
    "with open('0709_filehandleoutput.txt','r') as f:\n",
    "    while True :\n",
    "        line = f.readline()\n",
    "        print(line,end='')\n",
    "        if not line : \n",
    "            break"
   ]
  },
  {
   "cell_type": "code",
   "execution_count": null,
   "metadata": {},
   "outputs": [],
   "source": [
    "fn ='./data/titanic.csv'\n",
    "import csv\n",
    "with open(fn,'r') as f :\n",
    "    reader =csv.reader(f)\n",
    "    row = next(reader)\n",
    "    print(row)\n",
    "    for i in range(10) :\n",
    "        print(next(reader))\n",
    "    print(reader)\n"
   ]
  },
  {
   "cell_type": "code",
   "execution_count": null,
   "metadata": {},
   "outputs": [],
   "source": [
    "with open('./data/out.csv','w',newline='',encoding='utf-8') as f :\n",
    "    writer = csv.writer(f,delimiter=',')\n",
    "    writer.writerow(['smam',22,32,34,45])\n",
    "    writer.writerow(['spmam',2,3,4,5])"
   ]
  },
  {
   "cell_type": "code",
   "execution_count": null,
   "metadata": {},
   "outputs": [],
   "source": []
  },
  {
   "cell_type": "code",
   "execution_count": null,
   "metadata": {},
   "outputs": [],
   "source": []
  },
  {
   "cell_type": "code",
   "execution_count": 11,
   "metadata": {},
   "outputs": [],
   "source": [
    "with open('./data/score.txt','r') as f :\n",
    "    dt = f.readlines()\n",
    "t =0\n",
    "n = 0\n",
    "for i in dt :\n",
    "    t+=float(i.strip())\n",
    "    n+=1\n",
    "\n",
    "with open('./data/result.txt','w') as f:\n",
    "    f.write('%.0f\\n'%t)\n",
    "    f.write(str(t/n))"
   ]
  },
  {
   "cell_type": "code",
   "execution_count": 13,
   "metadata": {},
   "outputs": [],
   "source": [
    "import csv\n",
    "with open('./data/input.csv', 'w', newline='') as a:\n",
    "    b = csv.writer(a,delimiter=',')\n",
    "    b.writerow([75, 56, 38, 98, 62, 3, 81, 17, 52, 43])"
   ]
  },
  {
   "cell_type": "code",
   "execution_count": 16,
   "metadata": {},
   "outputs": [
    {
     "name": "stdout",
     "output_type": "stream",
     "text": [
      "3\n"
     ]
    }
   ],
   "source": [
    "result = 0\n",
    "try:\n",
    "    [1, 2, 3][3]\n",
    "    \"a\"+1\n",
    "    4 / 0\n",
    "except TypeError:\n",
    "    result += 1\n",
    "except ZeroDivisionError:\n",
    "    result += 2\n",
    "except IndexError:\n",
    "    result += 3\n",
    "print(result)"
   ]
  },
  {
   "cell_type": "code",
   "execution_count": 51,
   "metadata": {},
   "outputs": [],
   "source": [
    "import csv\n",
    "with open('./data/numbers.csv', 'w', newline='') as a:\n",
    "    b = csv.writer(a,delimiter=',')\n",
    "    b.writerow([10,5])\n",
    "    b.writerow([9,4])\n",
    "    b.writerow([90,10])\n",
    "    b.writerow([4,0])\n",
    "    b.writerow([30,6])\n",
    "    b.writerow([100,100])"
   ]
  },
  {
   "cell_type": "code",
   "execution_count": 52,
   "metadata": {},
   "outputs": [
    {
     "name": "stdout",
     "output_type": "stream",
     "text": [
      "10 / 5 = 2\n",
      "9 / 4 = 2\n",
      "90 / 10 = 9\n",
      "두번째 숫자가 0입니다.\n"
     ]
    }
   ],
   "source": [
    "try:\n",
    "    with open('./data/numbers.csv','r') as f:\n",
    "        while True :\n",
    "            a = f.readline().split(',')\n",
    "            if a==[''] :\n",
    "                break\n",
    "            print(a[0],'/',a[1].strip(),'=',int(a[0])//int(a[1]))\n",
    "except FileNotFoundError:\n",
    "    print('Cannot found file: numbers.csv')\n",
    "except ZeroDivisionError:\n",
    "    print('두번째 숫자가 0입니다.')"
   ]
  }
 ],
 "metadata": {
  "kernelspec": {
   "display_name": "Python 3",
   "language": "python",
   "name": "python3"
  },
  "language_info": {
   "codemirror_mode": {
    "name": "ipython",
    "version": 3
   },
   "file_extension": ".py",
   "mimetype": "text/x-python",
   "name": "python",
   "nbconvert_exporter": "python",
   "pygments_lexer": "ipython3",
   "version": "3.7.7"
  },
  "toc": {
   "base_numbering": 1,
   "nav_menu": {},
   "number_sections": true,
   "sideBar": true,
   "skip_h1_title": false,
   "title_cell": "Table of Contents",
   "title_sidebar": "Contents",
   "toc_cell": false,
   "toc_position": {},
   "toc_section_display": true,
   "toc_window_display": false
  }
 },
 "nbformat": 4,
 "nbformat_minor": 4
}
