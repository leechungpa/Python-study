{
 "cells": [
  {
   "cell_type": "code",
   "execution_count": 11,
   "metadata": {},
   "outputs": [],
   "source": [
    "with open('./data/score.txt','r') as f :\n",
    "    dt = f.readlines()\n",
    "t =0\n",
    "n = 0\n",
    "for i in dt :\n",
    "    t+=float(i.strip())\n",
    "    n+=1\n",
    "\n",
    "with open('./data/result.txt','w') as f:\n",
    "    f.write('%.0f\\n'%t)\n",
    "    f.write(str(t/n))"
   ]
  },
  {
   "cell_type": "code",
   "execution_count": 13,
   "metadata": {},
   "outputs": [],
   "source": [
    "import csv\n",
    "with open('./data/input.csv', 'w', newline='') as a:\n",
    "    b = csv.writer(a,delimiter=',')\n",
    "    b.writerow([75, 56, 38, 98, 62, 3, 81, 17, 52, 43])"
   ]
  },
  {
   "cell_type": "code",
   "execution_count": 16,
   "metadata": {},
   "outputs": [
    {
     "name": "stdout",
     "output_type": "stream",
     "text": [
      "3\n"
     ]
    }
   ],
   "source": [
    "result = 0\n",
    "try:\n",
    "    [1, 2, 3][3]\n",
    "    \"a\"+1\n",
    "    4 / 0\n",
    "except TypeError:\n",
    "    result += 1\n",
    "except ZeroDivisionError:\n",
    "    result += 2\n",
    "except IndexError:\n",
    "    result += 3\n",
    "print(result)"
   ]
  },
  {
   "cell_type": "code",
   "execution_count": 51,
   "metadata": {},
   "outputs": [],
   "source": [
    "import csv\n",
    "with open('./data/numbers.csv', 'w', newline='') as a:\n",
    "    b = csv.writer(a,delimiter=',')\n",
    "    b.writerow([10,5])\n",
    "    b.writerow([9,4])\n",
    "    b.writerow([90,10])\n",
    "    b.writerow([4,0])\n",
    "    b.writerow([30,6])\n",
    "    b.writerow([100,100])"
   ]
  },
  {
   "cell_type": "code",
   "execution_count": 52,
   "metadata": {},
   "outputs": [
    {
     "name": "stdout",
     "output_type": "stream",
     "text": [
      "10 / 5 = 2\n",
      "9 / 4 = 2\n",
      "90 / 10 = 9\n",
      "두번째 숫자가 0입니다.\n"
     ]
    }
   ],
   "source": [
    "try:\n",
    "    with open('./data/numbers.csv','r') as f:\n",
    "        while True :\n",
    "            a = f.readline().split(',')\n",
    "            if a==[''] :\n",
    "                break\n",
    "            print(a[0],'/',a[1].strip(),'=',int(a[0])//int(a[1]))\n",
    "except FileNotFoundError:\n",
    "    print('Cannot found file: numbers.csv')\n",
    "except ZeroDivisionError:\n",
    "    print('두번째 숫자가 0입니다.')"
   ]
  },
  {
   "cell_type": "code",
   "execution_count": 138,
   "metadata": {
    "scrolled": true
   },
   "outputs": [],
   "source": [
    "import pandas as pd\n",
    "data = pd.read_csv('./data/연안정지 관측자료.csv')\n",
    "mdt = data.groupby('연안정점').기온.mean()\n",
    "mdt.name='평균기온'\n",
    "mdt.to_csv('./data/연안정점기온평균.txt')"
   ]
  },
  {
   "cell_type": "code",
   "execution_count": 142,
   "metadata": {},
   "outputs": [
    {
     "name": "stdout",
     "output_type": "stream",
     "text": [
      "{'용유도(31302)': [144.2, 7], '주문진(11002)': [242.0, 11], '포항(11701)': [169.0, 7], '호미곶(11901)': [22.5, 1], '화양(22001)': [161.2, 7]}\n",
      "용유도(31302) 20.599999999999998\n",
      "주문진(11002) 22.0\n",
      "포항(11701) 24.142857142857142\n",
      "호미곶(11901) 22.5\n",
      "화양(22001) 23.02857142857143\n"
     ]
    }
   ],
   "source": [
    "import csv\n",
    "ndata = {}\n",
    "with open('./data/연안정지 관측자료.csv',encoding='utf-8') as f :\n",
    "    reader = csv.reader(f)\n",
    "    next(reader)\n",
    "    for row in reader :\n",
    "        ndata[row[1]]=ndata.get(row[1],[0,0])\n",
    "        try :\n",
    "            temp =float(row[5])\n",
    "        except :\n",
    "            pass\n",
    "        else :\n",
    "            ndata[row[1]][0]+=temp\n",
    "            ndata[row[1]][1]+=1\n",
    "print(ndata)\n",
    "with open('./data/연안정점기온평균.csv','w',encoding='cp949',newline='')as fhand:\n",
    "    writer = csv.writer(fhand)\n",
    "    writer.writerow(['연안정점','평균기온'])\n",
    "    for k,v in ndata.items():\n",
    "        m = str(v[0]/v[1])\n",
    "        writer.writerow([k,m])\n",
    "        print(k,m)"
   ]
  }
 ],
 "metadata": {
  "kernelspec": {
   "display_name": "Python 3",
   "language": "python",
   "name": "python3"
  },
  "language_info": {
   "codemirror_mode": {
    "name": "ipython",
    "version": 3
   },
   "file_extension": ".py",
   "mimetype": "text/x-python",
   "name": "python",
   "nbconvert_exporter": "python",
   "pygments_lexer": "ipython3",
   "version": "3.7.7"
  }
 },
 "nbformat": 4,
 "nbformat_minor": 4
}
