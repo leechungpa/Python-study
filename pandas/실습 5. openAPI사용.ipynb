{
 "cells": [
  {
   "cell_type": "code",
   "execution_count": 1,
   "metadata": {},
   "outputs": [],
   "source": [
    "import pandas as pd\n",
    "import numpy as np\n",
    "import matplotlib\n",
    "import matplotlib.pyplot as plt\n",
    "\n",
    "matplotlib.rcParams['font.family'].insert(0, 'anumGothic') \n",
    "%matplotlib inline"
   ]
  },
  {
   "cell_type": "markdown",
   "metadata": {},
   "source": [
    "# openAPI 활용 및 json 데이터 읽기\n",
    "## API : Application Programming Interface\n",
    "\n",
    "서울시 데이터 포털에서 공공 API 활용하기\n",
    "서울시 동별 인구통계 : http://data.seoul.go.kr/dataList/datasetView.do?infId=10043&srvType=S&serviceKind=2&currentPageNo=1"
   ]
  },
  {
   "cell_type": "code",
   "execution_count": 2,
   "metadata": {},
   "outputs": [],
   "source": [
    "import requests"
   ]
  },
  {
   "cell_type": "code",
   "execution_count": 3,
   "metadata": {},
   "outputs": [],
   "source": [
    "url = 'http://openapi.seoul.go.kr:8088'\n",
    "api_key = 'sample'\n",
    "return_format = 'json'\n",
    "service_id = 'octastatapi10043'\n",
    "start_idx = '1'\n",
    "end_idx = '5'\n",
    "\n",
    "request_url = '/'.join([url, api_key, return_format, service_id, start_idx, end_idx])"
   ]
  },
  {
   "cell_type": "code",
   "execution_count": 4,
   "metadata": {},
   "outputs": [],
   "source": [
    "response = requests.get(request_url)"
   ]
  },
  {
   "cell_type": "code",
   "execution_count": 5,
   "metadata": {},
   "outputs": [
    {
     "data": {
      "text/plain": [
       "'{\"octastatapi10043\":{\"list_total_count\":1801,\"RESULT\":{\"CODE\":\"INFO-000\",\"MESSAGE\":\"정상 처리되었습니다\"},\"row\":[{\"GIGAN\":\"\\ufeff2020.1-4\",\"JACHIGU\":\"합계\",\"DONG\":\"합계\",\"SEDAE\":\"4,354,006\",\"GYE_1\":\"10,013,781\",\"NAMJA_1\":\"4,874,995\",\"YEOJA_1\":\"5,138,786\",\"GYE_2\":\"9,733,655\",\"NAMJA_2\":\"4,742,217\",\"YEOJA_2\":\"4,991,438\",\"GYE_3\":\"280,126\",\"NAMJA_3\":\"132,778\",\"YEOJA_3\":\"147,348\",\"SEDAEDANGINGU\":\"2.24\",\"N_65SEISANGGORYEONGJA\":\"1,518,239\"},{\"GIGAN\":\"2020.1-4\",\"JACHIGU\":\"종로구\",\"DONG\":\"소계\",\"SEDAE\":\"74,151\",\"GYE_1\":\"161,984\",\"NAMJA_1\":\"78,271\",\"YEOJA_1\":\"83,713\",\"GYE_2\":\"151,217\",\"NAMJA_2\":\"73,704\",\"YEOJA_2\":\"77,513\",\"GYE_3\":\"10,767\",\"NAMJA_3\":\"4,567\",\"YEOJA_3\":\"6,200\",\"SEDAEDANGINGU\":\"2.04\",\"N_65SEISANGGORYEONGJA\":\"28,073\"},{\"GIGAN\":\"2020.1-4\",\"JACHIGU\":\"종로구\",\"DONG\":\"사직동\",\"SEDAE\":\"4,668\",\"GYE_1\":\"9,841\",\"NAMJA_1\":\"4,469\",\"YEOJA_1\":\"5,372\",\"GYE_2\":\"9,553\",\"NAMJA_2\":\"4,309\",\"YEOJA_2\":\"5,244\",\"GYE_3\":\"288\",\"NAMJA_3\":\"160\",\"YEOJA_3\":\"128\",\"SEDAEDANGINGU\":\"2.05\",\"N_65SEISANGGORYEONGJA\":\"1,818\"},{\"GIGAN\":\"2020.1-4\",\"JACHIGU\":\"종로구\",\"DONG\":\"삼청동\",\"SEDAE\":\"1,375\",\"GYE_1\":\"2,993\",\"NAMJA_1\":\"1,435\",\"YEOJA_1\":\"1,558\",\"GYE_2\":\"2,749\",\"NAMJA_2\":\"1,320\",\"YEOJA_2\":\"1,429\",\"GYE_3\":\"244\",\"NAMJA_3\":\"115\",\"YEOJA_3\":\"129\",\"SEDAEDANGINGU\":\"2\",\"N_65SEISANGGORYEONGJA\":\"679\"},{\"GIGAN\":\"2020.1-4\",\"JACHIGU\":\"종로구\",\"DONG\":\"부암동\",\"SEDAE\":\"4,346\",\"GYE_1\":\"10,597\",\"NAMJA_1\":\"5,042\",\"YEOJA_1\":\"5,555\",\"GYE_2\":\"10,164\",\"NAMJA_2\":\"4,835\",\"YEOJA_2\":\"5,329\",\"GYE_3\":\"433\",\"NAMJA_3\":\"207\",\"YEOJA_3\":\"226\",\"SEDAEDANGINGU\":\"2.34\",\"N_65SEISANGGORYEONGJA\":\"1,799\"}]}}'"
      ]
     },
     "execution_count": 5,
     "metadata": {},
     "output_type": "execute_result"
    }
   ],
   "source": [
    "response.text"
   ]
  },
  {
   "cell_type": "markdown",
   "metadata": {},
   "source": [
    "## json (Java Script Object Notation)\n",
    "https://ko.wikipedia.org/wiki/JSON"
   ]
  },
  {
   "cell_type": "code",
   "execution_count": 6,
   "metadata": {},
   "outputs": [],
   "source": [
    "sample = ' { \\\n",
    "    \"이름\": \"김지아\", \\\n",
    "    \"나이\": 25, \\\n",
    "    \"성별\": \"여\", \\\n",
    "    \"주소\": \"서울특별시 양천구 목동\",\\\n",
    "    \"특기\": [\"농구\", \"도술\"],\\\n",
    "    \"가족관계\": {\"#\": 2, \"아버지\": \"홍판서\", \"어머니\": \"춘섬\"},\\\n",
    "    \"회사\": \"경기 수원시 팔달구 우만동\"\\\n",
    " }'"
   ]
  },
  {
   "cell_type": "code",
   "execution_count": 7,
   "metadata": {},
   "outputs": [],
   "source": [
    "import json"
   ]
  },
  {
   "cell_type": "code",
   "execution_count": 8,
   "metadata": {},
   "outputs": [
    {
     "data": {
      "text/plain": [
       "{'이름': '김지아',\n",
       " '나이': 25,\n",
       " '성별': '여',\n",
       " '주소': '서울특별시 양천구 목동',\n",
       " '특기': ['농구', '도술'],\n",
       " '가족관계': {'#': 2, '아버지': '홍판서', '어머니': '춘섬'},\n",
       " '회사': '경기 수원시 팔달구 우만동'}"
      ]
     },
     "execution_count": 8,
     "metadata": {},
     "output_type": "execute_result"
    }
   ],
   "source": [
    "js = json.loads(sample) # json형태의 str을 dict로 변경\n",
    "js"
   ]
  },
  {
   "cell_type": "code",
   "execution_count": 9,
   "metadata": {},
   "outputs": [
    {
     "data": {
      "text/plain": [
       "dict"
      ]
     },
     "execution_count": 9,
     "metadata": {},
     "output_type": "execute_result"
    }
   ],
   "source": [
    "type(js)"
   ]
  },
  {
   "cell_type": "code",
   "execution_count": 10,
   "metadata": {},
   "outputs": [
    {
     "data": {
      "text/plain": [
       "'김지아'"
      ]
     },
     "execution_count": 10,
     "metadata": {},
     "output_type": "execute_result"
    }
   ],
   "source": [
    "js['이름']"
   ]
  },
  {
   "cell_type": "code",
   "execution_count": 11,
   "metadata": {},
   "outputs": [
    {
     "data": {
      "text/plain": [
       "{'octastatapi10043': {'list_total_count': 1801,\n",
       "  'RESULT': {'CODE': 'INFO-000', 'MESSAGE': '정상 처리되었습니다'},\n",
       "  'row': [{'GIGAN': '\\ufeff2020.1-4',\n",
       "    'JACHIGU': '합계',\n",
       "    'DONG': '합계',\n",
       "    'SEDAE': '4,354,006',\n",
       "    'GYE_1': '10,013,781',\n",
       "    'NAMJA_1': '4,874,995',\n",
       "    'YEOJA_1': '5,138,786',\n",
       "    'GYE_2': '9,733,655',\n",
       "    'NAMJA_2': '4,742,217',\n",
       "    'YEOJA_2': '4,991,438',\n",
       "    'GYE_3': '280,126',\n",
       "    'NAMJA_3': '132,778',\n",
       "    'YEOJA_3': '147,348',\n",
       "    'SEDAEDANGINGU': '2.24',\n",
       "    'N_65SEISANGGORYEONGJA': '1,518,239'},\n",
       "   {'GIGAN': '2020.1-4',\n",
       "    'JACHIGU': '종로구',\n",
       "    'DONG': '소계',\n",
       "    'SEDAE': '74,151',\n",
       "    'GYE_1': '161,984',\n",
       "    'NAMJA_1': '78,271',\n",
       "    'YEOJA_1': '83,713',\n",
       "    'GYE_2': '151,217',\n",
       "    'NAMJA_2': '73,704',\n",
       "    'YEOJA_2': '77,513',\n",
       "    'GYE_3': '10,767',\n",
       "    'NAMJA_3': '4,567',\n",
       "    'YEOJA_3': '6,200',\n",
       "    'SEDAEDANGINGU': '2.04',\n",
       "    'N_65SEISANGGORYEONGJA': '28,073'},\n",
       "   {'GIGAN': '2020.1-4',\n",
       "    'JACHIGU': '종로구',\n",
       "    'DONG': '사직동',\n",
       "    'SEDAE': '4,668',\n",
       "    'GYE_1': '9,841',\n",
       "    'NAMJA_1': '4,469',\n",
       "    'YEOJA_1': '5,372',\n",
       "    'GYE_2': '9,553',\n",
       "    'NAMJA_2': '4,309',\n",
       "    'YEOJA_2': '5,244',\n",
       "    'GYE_3': '288',\n",
       "    'NAMJA_3': '160',\n",
       "    'YEOJA_3': '128',\n",
       "    'SEDAEDANGINGU': '2.05',\n",
       "    'N_65SEISANGGORYEONGJA': '1,818'},\n",
       "   {'GIGAN': '2020.1-4',\n",
       "    'JACHIGU': '종로구',\n",
       "    'DONG': '삼청동',\n",
       "    'SEDAE': '1,375',\n",
       "    'GYE_1': '2,993',\n",
       "    'NAMJA_1': '1,435',\n",
       "    'YEOJA_1': '1,558',\n",
       "    'GYE_2': '2,749',\n",
       "    'NAMJA_2': '1,320',\n",
       "    'YEOJA_2': '1,429',\n",
       "    'GYE_3': '244',\n",
       "    'NAMJA_3': '115',\n",
       "    'YEOJA_3': '129',\n",
       "    'SEDAEDANGINGU': '2',\n",
       "    'N_65SEISANGGORYEONGJA': '679'},\n",
       "   {'GIGAN': '2020.1-4',\n",
       "    'JACHIGU': '종로구',\n",
       "    'DONG': '부암동',\n",
       "    'SEDAE': '4,346',\n",
       "    'GYE_1': '10,597',\n",
       "    'NAMJA_1': '5,042',\n",
       "    'YEOJA_1': '5,555',\n",
       "    'GYE_2': '10,164',\n",
       "    'NAMJA_2': '4,835',\n",
       "    'YEOJA_2': '5,329',\n",
       "    'GYE_3': '433',\n",
       "    'NAMJA_3': '207',\n",
       "    'YEOJA_3': '226',\n",
       "    'SEDAEDANGINGU': '2.34',\n",
       "    'N_65SEISANGGORYEONGJA': '1,799'}]}}"
      ]
     },
     "execution_count": 11,
     "metadata": {},
     "output_type": "execute_result"
    }
   ],
   "source": [
    "json_data = response.json()\n",
    "json_data"
   ]
  },
  {
   "cell_type": "code",
   "execution_count": 12,
   "metadata": {},
   "outputs": [
    {
     "data": {
      "text/plain": [
       "dict"
      ]
     },
     "execution_count": 12,
     "metadata": {},
     "output_type": "execute_result"
    }
   ],
   "source": [
    "type(json_data)"
   ]
  },
  {
   "cell_type": "code",
   "execution_count": 13,
   "metadata": {},
   "outputs": [
    {
     "data": {
      "text/html": [
       "<div>\n",
       "<style scoped>\n",
       "    .dataframe tbody tr th:only-of-type {\n",
       "        vertical-align: middle;\n",
       "    }\n",
       "\n",
       "    .dataframe tbody tr th {\n",
       "        vertical-align: top;\n",
       "    }\n",
       "\n",
       "    .dataframe thead th {\n",
       "        text-align: right;\n",
       "    }\n",
       "</style>\n",
       "<table border=\"1\" class=\"dataframe\">\n",
       "  <thead>\n",
       "    <tr style=\"text-align: right;\">\n",
       "      <th></th>\n",
       "      <th>GIGAN</th>\n",
       "      <th>JACHIGU</th>\n",
       "      <th>DONG</th>\n",
       "      <th>SEDAE</th>\n",
       "      <th>GYE_1</th>\n",
       "      <th>NAMJA_1</th>\n",
       "      <th>YEOJA_1</th>\n",
       "      <th>GYE_2</th>\n",
       "      <th>NAMJA_2</th>\n",
       "      <th>YEOJA_2</th>\n",
       "      <th>GYE_3</th>\n",
       "      <th>NAMJA_3</th>\n",
       "      <th>YEOJA_3</th>\n",
       "      <th>SEDAEDANGINGU</th>\n",
       "      <th>N_65SEISANGGORYEONGJA</th>\n",
       "    </tr>\n",
       "  </thead>\n",
       "  <tbody>\n",
       "    <tr>\n",
       "      <th>0</th>\n",
       "      <td>﻿2020.1-4</td>\n",
       "      <td>합계</td>\n",
       "      <td>합계</td>\n",
       "      <td>4,354,006</td>\n",
       "      <td>10,013,781</td>\n",
       "      <td>4,874,995</td>\n",
       "      <td>5,138,786</td>\n",
       "      <td>9,733,655</td>\n",
       "      <td>4,742,217</td>\n",
       "      <td>4,991,438</td>\n",
       "      <td>280,126</td>\n",
       "      <td>132,778</td>\n",
       "      <td>147,348</td>\n",
       "      <td>2.24</td>\n",
       "      <td>1,518,239</td>\n",
       "    </tr>\n",
       "    <tr>\n",
       "      <th>1</th>\n",
       "      <td>2020.1-4</td>\n",
       "      <td>종로구</td>\n",
       "      <td>소계</td>\n",
       "      <td>74,151</td>\n",
       "      <td>161,984</td>\n",
       "      <td>78,271</td>\n",
       "      <td>83,713</td>\n",
       "      <td>151,217</td>\n",
       "      <td>73,704</td>\n",
       "      <td>77,513</td>\n",
       "      <td>10,767</td>\n",
       "      <td>4,567</td>\n",
       "      <td>6,200</td>\n",
       "      <td>2.04</td>\n",
       "      <td>28,073</td>\n",
       "    </tr>\n",
       "    <tr>\n",
       "      <th>2</th>\n",
       "      <td>2020.1-4</td>\n",
       "      <td>종로구</td>\n",
       "      <td>사직동</td>\n",
       "      <td>4,668</td>\n",
       "      <td>9,841</td>\n",
       "      <td>4,469</td>\n",
       "      <td>5,372</td>\n",
       "      <td>9,553</td>\n",
       "      <td>4,309</td>\n",
       "      <td>5,244</td>\n",
       "      <td>288</td>\n",
       "      <td>160</td>\n",
       "      <td>128</td>\n",
       "      <td>2.05</td>\n",
       "      <td>1,818</td>\n",
       "    </tr>\n",
       "    <tr>\n",
       "      <th>3</th>\n",
       "      <td>2020.1-4</td>\n",
       "      <td>종로구</td>\n",
       "      <td>삼청동</td>\n",
       "      <td>1,375</td>\n",
       "      <td>2,993</td>\n",
       "      <td>1,435</td>\n",
       "      <td>1,558</td>\n",
       "      <td>2,749</td>\n",
       "      <td>1,320</td>\n",
       "      <td>1,429</td>\n",
       "      <td>244</td>\n",
       "      <td>115</td>\n",
       "      <td>129</td>\n",
       "      <td>2</td>\n",
       "      <td>679</td>\n",
       "    </tr>\n",
       "    <tr>\n",
       "      <th>4</th>\n",
       "      <td>2020.1-4</td>\n",
       "      <td>종로구</td>\n",
       "      <td>부암동</td>\n",
       "      <td>4,346</td>\n",
       "      <td>10,597</td>\n",
       "      <td>5,042</td>\n",
       "      <td>5,555</td>\n",
       "      <td>10,164</td>\n",
       "      <td>4,835</td>\n",
       "      <td>5,329</td>\n",
       "      <td>433</td>\n",
       "      <td>207</td>\n",
       "      <td>226</td>\n",
       "      <td>2.34</td>\n",
       "      <td>1,799</td>\n",
       "    </tr>\n",
       "  </tbody>\n",
       "</table>\n",
       "</div>"
      ],
      "text/plain": [
       "       GIGAN JACHIGU DONG      SEDAE       GYE_1    NAMJA_1    YEOJA_1  \\\n",
       "0  ﻿2020.1-4      합계   합계  4,354,006  10,013,781  4,874,995  5,138,786   \n",
       "1   2020.1-4     종로구   소계     74,151     161,984     78,271     83,713   \n",
       "2   2020.1-4     종로구  사직동      4,668       9,841      4,469      5,372   \n",
       "3   2020.1-4     종로구  삼청동      1,375       2,993      1,435      1,558   \n",
       "4   2020.1-4     종로구  부암동      4,346      10,597      5,042      5,555   \n",
       "\n",
       "       GYE_2    NAMJA_2    YEOJA_2    GYE_3  NAMJA_3  YEOJA_3 SEDAEDANGINGU  \\\n",
       "0  9,733,655  4,742,217  4,991,438  280,126  132,778  147,348          2.24   \n",
       "1    151,217     73,704     77,513   10,767    4,567    6,200          2.04   \n",
       "2      9,553      4,309      5,244      288      160      128          2.05   \n",
       "3      2,749      1,320      1,429      244      115      129             2   \n",
       "4     10,164      4,835      5,329      433      207      226          2.34   \n",
       "\n",
       "  N_65SEISANGGORYEONGJA  \n",
       "0             1,518,239  \n",
       "1                28,073  \n",
       "2                 1,818  \n",
       "3                   679  \n",
       "4                 1,799  "
      ]
     },
     "execution_count": 13,
     "metadata": {},
     "output_type": "execute_result"
    }
   ],
   "source": [
    "pd.DataFrame(json_data['octastatapi10043']['row'])"
   ]
  }
 ],
 "metadata": {
  "kernelspec": {
   "display_name": "Python 3",
   "language": "python",
   "name": "python3"
  },
  "language_info": {
   "codemirror_mode": {
    "name": "ipython",
    "version": 3
   },
   "file_extension": ".py",
   "mimetype": "text/x-python",
   "name": "python",
   "nbconvert_exporter": "python",
   "pygments_lexer": "ipython3",
   "version": "3.7.7"
  },
  "toc": {
   "base_numbering": 1,
   "nav_menu": {},
   "number_sections": true,
   "sideBar": true,
   "skip_h1_title": false,
   "title_cell": "Table of Contents",
   "title_sidebar": "Contents",
   "toc_cell": false,
   "toc_position": {},
   "toc_section_display": true,
   "toc_window_display": false
  }
 },
 "nbformat": 4,
 "nbformat_minor": 2
}
