{
 "cells": [
  {
   "cell_type": "code",
   "execution_count": 2,
   "metadata": {},
   "outputs": [],
   "source": [
    "import pandas as pd\n",
    "from pandas import Series, DataFrame"
   ]
  },
  {
   "cell_type": "markdown",
   "metadata": {},
   "source": [
    "# 4. 데이터 가공 1 - 데이터 합치기\n",
    "## 4-1. pandas.merge()\n",
    "<img src=\"img/4강/merge예제.jpg\" alt=\"merge예제\" style=\"width: 600px;\"/>"
   ]
  },
  {
   "cell_type": "code",
   "execution_count": 9,
   "metadata": {},
   "outputs": [],
   "source": [
    "#샘플 데이터 생성\n",
    "df1 = DataFrame([[1,3],[1,2], [2,5]], \n",
    "                           columns = list('AB'))\n",
    "df2 = DataFrame([[1,'big'],[2,'data'], [3, 'analytics']], \n",
    "                           columns = list('AC'))"
   ]
  },
  {
   "cell_type": "code",
   "execution_count": null,
   "metadata": {
    "scrolled": false
   },
   "outputs": [],
   "source": []
  },
  {
   "cell_type": "code",
   "execution_count": null,
   "metadata": {},
   "outputs": [],
   "source": []
  },
  {
   "cell_type": "markdown",
   "metadata": {},
   "source": [
    "   ### 주요 파라미터\n",
    "   - 키를 기준으로 DataFrame의 로우를 합친다. SQL이나 다른 관계형 데이터베이스의 join 연산과 동일함.\n",
    "   - 주요 파라미터        \n",
    "      . left, right : merge할 DataFrame 객체이름\n",
    "      \n",
    "      . how = 'inner', #left, right, outer\n",
    "      \n",
    "      . on = None, #merge의 기준이 되는 컬럼\n",
    "      \n",
    "      . left_on = None, #left DataFrame의 기준 컬럼\n",
    "      \n",
    "      . right_on = None, #right DataFrame의 기준 컬럼"
   ]
  },
  {
   "cell_type": "code",
   "execution_count": null,
   "metadata": {},
   "outputs": [],
   "source": [
    "df_left = DataFrame({'KEY': ['k0', 'k1', 'k2', 'k3'],\n",
    "                     'A': ['a0', 'a1', 'a2', 'a3'],\n",
    "                     'B': ['b0', 'b1', 'b2', 'b3']})\n",
    "df_right = DataFrame({'KEY': ['k2', 'k3', 'k4', 'k5'],\n",
    "                     'C': ['c2', 'c3', 'c4', 'c5'],\n",
    "                     'D': ['d2', 'd3', 'd4', 'd5']})"
   ]
  },
  {
   "cell_type": "code",
   "execution_count": null,
   "metadata": {},
   "outputs": [],
   "source": []
  },
  {
   "cell_type": "code",
   "execution_count": null,
   "metadata": {},
   "outputs": [],
   "source": []
  },
  {
   "cell_type": "code",
   "execution_count": null,
   "metadata": {},
   "outputs": [],
   "source": [
    "# inner join\n"
   ]
  },
  {
   "cell_type": "code",
   "execution_count": null,
   "metadata": {},
   "outputs": [],
   "source": [
    "# left outer join\n"
   ]
  },
  {
   "cell_type": "code",
   "execution_count": null,
   "metadata": {},
   "outputs": [],
   "source": [
    "#right outer join\n"
   ]
  },
  {
   "cell_type": "code",
   "execution_count": null,
   "metadata": {},
   "outputs": [],
   "source": [
    "# fully outer join\n"
   ]
  },
  {
   "cell_type": "code",
   "execution_count": null,
   "metadata": {},
   "outputs": [],
   "source": [
    "# 실습 아래 2개의 DataFrame을 K1과 K2 컬럼으로 outer merge\n",
    "df_left2 = DataFrame({'K1': ['k0', 'k1', 'k2', 'k3'],\n",
    "                     'A': ['a0', 'a1', 'a2', 'a3'],\n",
    "                     'B': ['b0', 'b1', 'b2', 'b3']})\n",
    "df_right2 = DataFrame({'K2': ['k2', 'k3', 'k4', 'k5'],\n",
    "                     'C': ['c2', 'c3', 'c4', 'c5'],\n",
    "                     'D': ['d2', 'd3', 'd4', 'd5']}) \n",
    "\n"
   ]
  },
  {
   "cell_type": "code",
   "execution_count": null,
   "metadata": {
    "scrolled": true
   },
   "outputs": [],
   "source": [
    "# 실습\n"
   ]
  },
  {
   "cell_type": "code",
   "execution_count": null,
   "metadata": {},
   "outputs": [],
   "source": []
  },
  {
   "cell_type": "code",
   "execution_count": null,
   "metadata": {
    "scrolled": true
   },
   "outputs": [],
   "source": [
    "# 실제 데이터 실습\n",
    "#1. 사용자 데이터 읽어오기\n",
    "# 데이터 파일: 'data/movielens/users.dat'\n",
    "# 컬럼명 = ['사용자아이디','성별','연령','직업','지역']"
   ]
  },
  {
   "cell_type": "code",
   "execution_count": null,
   "metadata": {},
   "outputs": [],
   "source": [
    "# 2. 평점 데이터 읽어오기\n",
    "# 데이터 파일 : data/movielens/ratings.dat\n",
    "# 컬럼명들은 ['사용자아이디', '영화아이디', '평점', '타임스탬프']\n"
   ]
  },
  {
   "cell_type": "code",
   "execution_count": null,
   "metadata": {},
   "outputs": [],
   "source": [
    "# 3. 사용자와 평점 데이터 합치기\n"
   ]
  },
  {
   "cell_type": "markdown",
   "metadata": {},
   "source": [
    "## 4-2. pandas.concat(axis = 0)\n",
    "<img src=\"img/4강/concat0예제.jpg\" alt=\"csv파일예제\" style=\"width: 600px;\"/>"
   ]
  },
  {
   "cell_type": "code",
   "execution_count": null,
   "metadata": {},
   "outputs": [],
   "source": [
    "df1 = DataFrame([[1,'aa'],[2,'bb']], \n",
    "                           columns = list('AB'))\n",
    "df2 = DataFrame([[3,'cc'],[4,'dd']], \n",
    "                           columns = list('AB'))"
   ]
  },
  {
   "cell_type": "code",
   "execution_count": null,
   "metadata": {},
   "outputs": [],
   "source": [
    "# df1과 df2 concat 수행하기\n"
   ]
  },
  {
   "cell_type": "code",
   "execution_count": null,
   "metadata": {},
   "outputs": [],
   "source": []
  },
  {
   "cell_type": "code",
   "execution_count": null,
   "metadata": {},
   "outputs": [],
   "source": []
  },
  {
   "cell_type": "code",
   "execution_count": null,
   "metadata": {},
   "outputs": [],
   "source": [
    "# 실제 데이터 실습\n",
    "#  data/NC Dinos.xlsx 파일에서 2013, 2014, 2015시즌 정보를 읽어서, 각각 NC13, NC14, NC15에 저장한 후에, \n",
    "# 3개년도 정보를 하나의 데이터프레임 NCAll에 저장하기"
   ]
  },
  {
   "cell_type": "code",
   "execution_count": null,
   "metadata": {},
   "outputs": [],
   "source": []
  },
  {
   "cell_type": "code",
   "execution_count": null,
   "metadata": {},
   "outputs": [],
   "source": []
  },
  {
   "cell_type": "code",
   "execution_count": null,
   "metadata": {},
   "outputs": [],
   "source": []
  },
  {
   "cell_type": "code",
   "execution_count": null,
   "metadata": {},
   "outputs": [],
   "source": []
  },
  {
   "cell_type": "code",
   "execution_count": null,
   "metadata": {},
   "outputs": [],
   "source": []
  },
  {
   "cell_type": "markdown",
   "metadata": {},
   "source": [
    "## 4-3. concat(axis = 1)\n",
    "<img src=\"img/4강/concat1예제.jpg\" alt=\"csv파일예제\" style=\"width: 800px;\"/>"
   ]
  },
  {
   "cell_type": "code",
   "execution_count": 12,
   "metadata": {},
   "outputs": [],
   "source": [
    "# 샘플 데이터 생성\n",
    "df1 = DataFrame([[1,10],[2,20], [3,30]], \n",
    "                           columns = list('AB'), index = ['aa','bb', 'cc'])\n",
    "df2 = DataFrame([[3,'xx'],[4,'yy']], \n",
    "                           columns = list('CD'), index = ['aa','bb'])"
   ]
  },
  {
   "cell_type": "code",
   "execution_count": 14,
   "metadata": {},
   "outputs": [
    {
     "data": {
      "text/html": [
       "<div>\n",
       "<style scoped>\n",
       "    .dataframe tbody tr th:only-of-type {\n",
       "        vertical-align: middle;\n",
       "    }\n",
       "\n",
       "    .dataframe tbody tr th {\n",
       "        vertical-align: top;\n",
       "    }\n",
       "\n",
       "    .dataframe thead th {\n",
       "        text-align: right;\n",
       "    }\n",
       "</style>\n",
       "<table border=\"1\" class=\"dataframe\">\n",
       "  <thead>\n",
       "    <tr style=\"text-align: right;\">\n",
       "      <th></th>\n",
       "      <th>A</th>\n",
       "      <th>B</th>\n",
       "      <th>C</th>\n",
       "      <th>D</th>\n",
       "    </tr>\n",
       "  </thead>\n",
       "  <tbody>\n",
       "    <tr>\n",
       "      <th>aa</th>\n",
       "      <td>1</td>\n",
       "      <td>10</td>\n",
       "      <td>3.0</td>\n",
       "      <td>xx</td>\n",
       "    </tr>\n",
       "    <tr>\n",
       "      <th>bb</th>\n",
       "      <td>2</td>\n",
       "      <td>20</td>\n",
       "      <td>4.0</td>\n",
       "      <td>yy</td>\n",
       "    </tr>\n",
       "    <tr>\n",
       "      <th>cc</th>\n",
       "      <td>3</td>\n",
       "      <td>30</td>\n",
       "      <td>NaN</td>\n",
       "      <td>NaN</td>\n",
       "    </tr>\n",
       "  </tbody>\n",
       "</table>\n",
       "</div>"
      ],
      "text/plain": [
       "    A   B    C    D\n",
       "aa  1  10  3.0   xx\n",
       "bb  2  20  4.0   yy\n",
       "cc  3  30  NaN  NaN"
      ]
     },
     "execution_count": 14,
     "metadata": {},
     "output_type": "execute_result"
    }
   ],
   "source": [
    "# concat with axis = 1 수행\n",
    "pd.concat([df1, df2], axis = 1, sort=True)"
   ]
  },
  {
   "cell_type": "markdown",
   "metadata": {},
   "source": [
    "###  실습. 로우 인덱스는 '선수명'으로, 컬럼 인덱스는 '연도'로 구성하여, \n",
    "### NC 다이노스 선수들의 홈런 기록을 연도별로 볼 수 있도록 데이터프레임을 구성하시오. \n",
    "<img src=\"img/4강/concat예제NC.jpg\" alt=\"NC선수예제\" style=\"width: 200px;\"/>"
   ]
  },
  {
   "cell_type": "code",
   "execution_count": null,
   "metadata": {},
   "outputs": [],
   "source": []
  },
  {
   "cell_type": "code",
   "execution_count": null,
   "metadata": {},
   "outputs": [],
   "source": [
    "\n"
   ]
  },
  {
   "cell_type": "code",
   "execution_count": null,
   "metadata": {},
   "outputs": [],
   "source": []
  },
  {
   "cell_type": "code",
   "execution_count": null,
   "metadata": {},
   "outputs": [],
   "source": []
  },
  {
   "cell_type": "code",
   "execution_count": null,
   "metadata": {},
   "outputs": [],
   "source": []
  }
 ],
 "metadata": {
  "kernelspec": {
   "display_name": "Python 3",
   "language": "python",
   "name": "python3"
  },
  "language_info": {
   "codemirror_mode": {
    "name": "ipython",
    "version": 3
   },
   "file_extension": ".py",
   "mimetype": "text/x-python",
   "name": "python",
   "nbconvert_exporter": "python",
   "pygments_lexer": "ipython3",
   "version": "3.7.3"
  },
  "toc": {
   "base_numbering": 1,
   "nav_menu": {},
   "number_sections": true,
   "sideBar": true,
   "skip_h1_title": false,
   "title_cell": "Table of Contents",
   "title_sidebar": "Contents",
   "toc_cell": false,
   "toc_position": {},
   "toc_section_display": true,
   "toc_window_display": false
  }
 },
 "nbformat": 4,
 "nbformat_minor": 2
}
