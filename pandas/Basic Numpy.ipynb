{
 "cells": [
  {
   "cell_type": "markdown",
   "metadata": {
    "slideshow": {
     "slide_type": "slide"
    }
   },
   "source": [
    "# Basic Numpy"
   ]
  },
  {
   "cell_type": "code",
   "execution_count": 70,
   "metadata": {
    "slideshow": {
     "slide_type": "slide"
    }
   },
   "outputs": [],
   "source": [
    "import numpy as np"
   ]
  },
  {
   "cell_type": "markdown",
   "metadata": {
    "slideshow": {
     "slide_type": "slide"
    }
   },
   "source": [
    "## 기본 자료구조 (Numpy array)"
   ]
  },
  {
   "cell_type": "code",
   "execution_count": 72,
   "metadata": {
    "slideshow": {
     "slide_type": "slide"
    }
   },
   "outputs": [
    {
     "name": "stdout",
     "output_type": "stream",
     "text": [
      "['0' 'mon' '1.0' '2' '3' 'fri' 'sat' '6.0'] <class 'numpy.ndarray'> <U11\n"
     ]
    }
   ],
   "source": [
    "# 복합 자료형 list는 변환할 수 없음\n",
    "# 해당 자료형을 전부 포괄 할 수 있는 자료형이 있다면 해당 자료형으로 converting 후 변환\n",
    "week = np.array([0, 'mon', 1.0, 2, 3, 'fri', 'sat', 6.0])\n",
    "print(week, type(week), week.dtype)"
   ]
  },
  {
   "cell_type": "code",
   "execution_count": 74,
   "metadata": {
    "slideshow": {
     "slide_type": "slide"
    }
   },
   "outputs": [
    {
     "name": "stdout",
     "output_type": "stream",
     "text": [
      "<class 'numpy.ndarray'> (3, 3)\n"
     ]
    }
   ],
   "source": [
    "# 사이즈가 같은 중첩된 list는 같은 규칙에 의해 numpy array로 전환됨 \n",
    "people = np.array([['son', 176, 69], ['kim', 183, 84], ['lee', 163, 57]])\n",
    "print(people, type(people), people.shape)"
   ]
  },
  {
   "cell_type": "code",
   "execution_count": 76,
   "metadata": {
    "slideshow": {
     "slide_type": "slide"
    }
   },
   "outputs": [
    {
     "name": "stdout",
     "output_type": "stream",
     "text": [
      "[list(['son', 176, 69]) list(['kim', 183, 84]) list(['lee', 163, 57])\n",
      " list(['bug!', 183, 123, 341])] <class 'numpy.ndarray'> (4,) object\n"
     ]
    }
   ],
   "source": [
    "# 사이즈가 다른 중첩된 list는 numpy array로 변환 될 수 없음\n",
    "# 혀용되는 numpy array에 각 원소를 다시 list를 갖는 numpy array로 변환\n",
    "people = np.array([['son', 176, 69], ['kim', 183, 84], ['lee', 163, 57], ['bug!', 183, 123, 341]])\n",
    "print(people, type(people), people.shape, people.dtype)"
   ]
  },
  {
   "cell_type": "markdown",
   "metadata": {
    "slideshow": {
     "slide_type": "slide"
    }
   },
   "source": [
    "## np array 구조 (shape, ndim, axis, len, size)"
   ]
  },
  {
   "cell_type": "code",
   "execution_count": 79,
   "metadata": {
    "slideshow": {
     "slide_type": "slide"
    }
   },
   "outputs": [
    {
     "name": "stdout",
     "output_type": "stream",
     "text": [
      "len 4\n",
      "shape (4,)\n",
      "ndim 1\n",
      "size 4\n"
     ]
    }
   ],
   "source": [
    "#1차원 array 선언\n",
    "a1 = np.array([7,2,9,10])\n",
    "\n",
    "#len, shape, ndim 출력\n",
    "print('len', len(a1))\n",
    "print('shape', a1.shape)\n",
    "print('ndim', a1.ndim)\n",
    "print('size', a1.size)"
   ]
  },
  {
   "cell_type": "code",
   "execution_count": 80,
   "metadata": {
    "slideshow": {
     "slide_type": "slide"
    }
   },
   "outputs": [
    {
     "name": "stdout",
     "output_type": "stream",
     "text": [
      "len 2\n",
      "shape (2, 3)\n",
      "ndim 2\n",
      "size 6\n"
     ]
    }
   ],
   "source": [
    "#2차원 array 선언\n",
    "a2 = np.array([[5.2, 3.0, 4.5],\n",
    "               [9.1, 0.1, 0.3]])\n",
    "\n",
    "#len, shape, ndim 출력\n",
    "print('len', len(a2))\n",
    "print('shape', a2.shape)\n",
    "print('ndim', a2.ndim)\n",
    "print('size', a2.size)"
   ]
  },
  {
   "cell_type": "code",
   "execution_count": 81,
   "metadata": {
    "slideshow": {
     "slide_type": "slide"
    }
   },
   "outputs": [
    {
     "name": "stdout",
     "output_type": "stream",
     "text": [
      "len 4\n",
      "shape (4, 3, 2)\n",
      "ndim 3\n",
      "size 24\n"
     ]
    }
   ],
   "source": [
    "#3차원 array 선언\n",
    "a3 = np.array([\n",
    "    [[1, 2], [4, 3], [7, 4]],\n",
    "    [[2, 1], [9, 2], [7, 5]],\n",
    "    [[1, 8], [3, 4], [0, 2]],\n",
    "    [[9, 4], [6, 2], [9, 8]]])\n",
    "\n",
    "#len, shape, ndim 출력\n",
    "print('len', len(a3))\n",
    "print('shape', a3.shape)\n",
    "print('ndim', a3.ndim)\n",
    "print('size', a3.size)"
   ]
  },
  {
   "cell_type": "markdown",
   "metadata": {
    "slideshow": {
     "slide_type": "slide"
    }
   },
   "source": [
    "## np array 기본 함수"
   ]
  },
  {
   "cell_type": "code",
   "execution_count": 82,
   "metadata": {
    "slideshow": {
     "slide_type": "slide"
    }
   },
   "outputs": [
    {
     "name": "stdout",
     "output_type": "stream",
     "text": [
      "15\n",
      "120\n"
     ]
    }
   ],
   "source": [
    "a = np.array([1, 2, 3, 4, 5])\n",
    "#a를 전체 item 기준으로 sum과 prod 계산\n",
    "print(np.sum(a)) # 15 = 1+2+3+4+5\n",
    "print(np.prod(a)) # 120 = 1*2*3*4*5"
   ]
  },
  {
   "cell_type": "code",
   "execution_count": 88,
   "metadata": {
    "slideshow": {
     "slide_type": "slide"
    }
   },
   "outputs": [
    {
     "name": "stdout",
     "output_type": "stream",
     "text": [
      "5.5\n",
      "8.25\n",
      "2.8722813232690143\n"
     ]
    }
   ],
   "source": [
    "#a를 전체 item 기준으로 평균, 분산, 표준편차 계산\n",
    "print(np.mean(a)) # 3.0 = (1+2+3+4+5)/5\n",
    "print(np.var(a)) # 2.0: variance\n",
    "print(np.std(a)) # 1.414..: std\n"
   ]
  },
  {
   "cell_type": "code",
   "execution_count": 89,
   "metadata": {
    "slideshow": {
     "slide_type": "slide"
    }
   },
   "outputs": [
    {
     "name": "stdout",
     "output_type": "stream",
     "text": [
      "1\n",
      "10\n"
     ]
    }
   ],
   "source": [
    "#a를 전체 item 기준으로 최소, 최대값 계산\n",
    "print(np.min(a)) # 1: minimum\n",
    "print(np.max(a)) # 5: maximum"
   ]
  },
  {
   "cell_type": "code",
   "execution_count": 90,
   "metadata": {
    "slideshow": {
     "slide_type": "slide"
    }
   },
   "outputs": [
    {
     "name": "stdout",
     "output_type": "stream",
     "text": [
      "0\n",
      "9\n"
     ]
    }
   ],
   "source": [
    "#a를 전체 item 기준으로 최소, 최대값의 index위치를 반환\n",
    "print(np.argmin(a)) # 0: the index of the min. value\n",
    "print(np.argmax(a)) # 4: the index of the max. value"
   ]
  },
  {
   "cell_type": "code",
   "execution_count": 92,
   "metadata": {
    "slideshow": {
     "slide_type": "slide"
    }
   },
   "outputs": [
    {
     "name": "stdout",
     "output_type": "stream",
     "text": [
      "55 [ 7  9 11 13 15] [15 40]\n",
      "3628800 [ 6 14 24 36 50] [  120 30240]\n"
     ]
    }
   ],
   "source": [
    "a = np.array([[1, 2, 3, 4, 5], [6, 7, 8, 9, 10]])\n",
    "\n",
    "#axis를 바꿔가며 sum, prod 계산\n",
    "print(np.sum(a), np.sum(a, axis=0), np.sum(a, axis=1))\n",
    "print(np.prod(a), np.prod(a, axis=0), np.prod(a, axis=1))"
   ]
  },
  {
   "cell_type": "code",
   "execution_count": 93,
   "metadata": {
    "slideshow": {
     "slide_type": "slide"
    }
   },
   "outputs": [
    {
     "name": "stdout",
     "output_type": "stream",
     "text": [
      "5.5 [3.5 4.5 5.5 6.5 7.5] [3. 8.]\n",
      "8.25 [6.25 6.25 6.25 6.25 6.25] [2. 2.]\n",
      "2.8722813232690143 [2.5 2.5 2.5 2.5 2.5] [1.41421356 1.41421356]\n"
     ]
    }
   ],
   "source": [
    "#axis를 바꿔가며 mean, var, std 계산\n",
    "print(np.mean(a), np.mean(a, axis=0), np.mean(a, axis=1))\n",
    "print(np.var(a), np.var(a, axis=0), np.var(a, axis=1))\n",
    "print(np.std(a), np.std(a, axis=0), np.std(a, axis=1))"
   ]
  },
  {
   "cell_type": "code",
   "execution_count": 94,
   "metadata": {
    "slideshow": {
     "slide_type": "slide"
    }
   },
   "outputs": [
    {
     "name": "stdout",
     "output_type": "stream",
     "text": [
      "1 [1 2 3 4 5] [1 6]\n",
      "10 [ 6  7  8  9 10] [ 5 10]\n"
     ]
    }
   ],
   "source": [
    "#axis를 바꿔가며 min, max 계산\n",
    "print(np.min(a), np.min(a, axis=0), np.min(a, axis=1))\n",
    "print(np.max(a), np.max(a, axis=0), np.max(a, axis=1))"
   ]
  },
  {
   "cell_type": "code",
   "execution_count": 95,
   "metadata": {
    "slideshow": {
     "slide_type": "slide"
    }
   },
   "outputs": [
    {
     "name": "stdout",
     "output_type": "stream",
     "text": [
      "0 [0 0 0 0 0] [0 0]\n",
      "9 [1 1 1 1 1] [4 4]\n"
     ]
    }
   ],
   "source": [
    "#axis를 바꿔가며 argmin, argmax 계산\n",
    "print(np.argmin(a), np.argmin(a, axis=0), np.argmin(a, axis=1))\n",
    "print(np.argmax(a), np.argmax(a, axis=0), np.argmax(a, axis=1))"
   ]
  },
  {
   "cell_type": "markdown",
   "metadata": {
    "slideshow": {
     "slide_type": "slide"
    }
   },
   "source": [
    "## indexing & slicing"
   ]
  },
  {
   "cell_type": "code",
   "execution_count": 97,
   "metadata": {
    "slideshow": {
     "slide_type": "slide"
    }
   },
   "outputs": [
    {
     "name": "stdout",
     "output_type": "stream",
     "text": [
      "[1 2 3 4 5] [ 6  7  8  9 10]\n",
      "2 8\n",
      "2 8\n"
     ]
    }
   ],
   "source": [
    "data = np.array([[1, 2, 3, 4, 5], [6, 7, 8, 9, 10]])\n",
    "#각 원소를 index를 이용하여 출력\n",
    "print(data[0], data[1])\n",
    "print(data[0][1], data[1][2])\n",
    "print(data[0, 1], data[1 ,2])"
   ]
  },
  {
   "cell_type": "code",
   "execution_count": 42,
   "metadata": {
    "slideshow": {
     "slide_type": "slide"
    }
   },
   "outputs": [
    {
     "name": "stdout",
     "output_type": "stream",
     "text": [
      "[[1 2 3 4 5]]\n",
      "[[ 1  2  3  4  5]\n",
      " [ 6  7  8  9 10]]\n",
      "[4]\n",
      "[4 9]\n"
     ]
    }
   ],
   "source": [
    "#연속된 원소를 slice를 이용하여 출력\n",
    "print(data[0:1])\n",
    "print(data[0:2])\n",
    "\n",
    "print(data[0:1, 3])\n",
    "print(data[0:2, 3])"
   ]
  },
  {
   "cell_type": "markdown",
   "metadata": {
    "slideshow": {
     "slide_type": "slide"
    }
   },
   "source": [
    "## np 산술 연산"
   ]
  },
  {
   "cell_type": "code",
   "execution_count": 99,
   "metadata": {
    "slideshow": {
     "slide_type": "slide"
    }
   },
   "outputs": [],
   "source": [
    "a = np.array([[1,2],\n",
    "              [3,4]])\n",
    "\n",
    "b = np.array([[2,1],\n",
    "              [4,3]])"
   ]
  },
  {
   "cell_type": "code",
   "execution_count": 100,
   "metadata": {
    "slideshow": {
     "slide_type": "slide"
    }
   },
   "outputs": [
    {
     "name": "stdout",
     "output_type": "stream",
     "text": [
      "[[ 2  2]\n",
      " [12 12]]\n"
     ]
    }
   ],
   "source": [
    "# element-wise product 연산\n",
    "print(a * b)"
   ]
  },
  {
   "cell_type": "code",
   "execution_count": 101,
   "metadata": {
    "slideshow": {
     "slide_type": "slide"
    }
   },
   "outputs": [
    {
     "name": "stdout",
     "output_type": "stream",
     "text": [
      "[[10  7]\n",
      " [22 15]]\n",
      "[[10  7]\n",
      " [22 15]]\n",
      "[[10  7]\n",
      " [22 15]]\n"
     ]
    }
   ],
   "source": [
    "# matrix-multiplication 연산\n",
    "print(a @ b)\n",
    "print(np.matmul(a, b))\n",
    "print(np.dot(a, b))"
   ]
  },
  {
   "cell_type": "markdown",
   "metadata": {
    "slideshow": {
     "slide_type": "slide"
    }
   },
   "source": [
    "## Transpose"
   ]
  },
  {
   "cell_type": "code",
   "execution_count": 104,
   "metadata": {
    "slideshow": {
     "slide_type": "slide"
    }
   },
   "outputs": [
    {
     "name": "stdout",
     "output_type": "stream",
     "text": [
      "[[1]\n",
      " [2]\n",
      " [3]\n",
      " [4]] (4, 1)\n",
      "[1 2 3 4] (4,)\n"
     ]
    }
   ],
   "source": [
    "# 2차원 np array 선언\n",
    "a = np.array([[1,2,3,4]])\n",
    "print(a.T, a.T.shape)\n",
    "\n",
    "b = np.array([1,2,3,4])\n",
    "print(b.T, b.T.shape)"
   ]
  }
 ],
 "metadata": {
  "celltoolbar": "Slideshow",
  "kernelspec": {
   "display_name": "Python 3",
   "language": "python",
   "name": "python3"
  },
  "language_info": {
   "codemirror_mode": {
    "name": "ipython",
    "version": 3
   },
   "file_extension": ".py",
   "mimetype": "text/x-python",
   "name": "python",
   "nbconvert_exporter": "python",
   "pygments_lexer": "ipython3",
   "version": "3.7.7"
  },
  "latex_envs": {
   "LaTeX_envs_menu_present": true,
   "autoclose": false,
   "autocomplete": true,
   "bibliofile": "biblio.bib",
   "cite_by": "apalike",
   "current_citInitial": 1,
   "eqLabelWithNumbers": true,
   "eqNumInitial": 1,
   "hotkeys": {
    "equation": "Ctrl-E",
    "itemize": "Ctrl-I"
   },
   "labels_anchors": false,
   "latex_user_defs": false,
   "report_style_numbering": false,
   "user_envs_cfg": false
  },
  "toc": {
   "base_numbering": 1,
   "nav_menu": {},
   "number_sections": false,
   "sideBar": false,
   "skip_h1_title": false,
   "title_cell": "Table of Contents",
   "title_sidebar": "Contents",
   "toc_cell": false,
   "toc_position": {
    "height": "47px",
    "left": "1616px",
    "top": "198px",
    "width": "159px"
   },
   "toc_section_display": false,
   "toc_window_display": false
  },
  "varInspector": {
   "cols": {
    "lenName": 16,
    "lenType": 16,
    "lenVar": 40
   },
   "kernels_config": {
    "python": {
     "delete_cmd_postfix": "",
     "delete_cmd_prefix": "del ",
     "library": "var_list.py",
     "varRefreshCmd": "print(var_dic_list())"
    },
    "r": {
     "delete_cmd_postfix": ") ",
     "delete_cmd_prefix": "rm(",
     "library": "var_list.r",
     "varRefreshCmd": "cat(var_dic_list()) "
    }
   },
   "types_to_exclude": [
    "module",
    "function",
    "builtin_function_or_method",
    "instance",
    "_Feature"
   ],
   "window_display": false
  }
 },
 "nbformat": 4,
 "nbformat_minor": 2
}
