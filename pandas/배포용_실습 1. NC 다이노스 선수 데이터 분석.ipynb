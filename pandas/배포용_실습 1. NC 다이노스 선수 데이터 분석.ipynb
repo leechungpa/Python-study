{
 "cells": [
  {
   "cell_type": "code",
   "execution_count": 1,
   "metadata": {},
   "outputs": [],
   "source": [
    "import pandas as pd\n",
    "from pandas import Series, DataFrame\n",
    "import numpy as np"
   ]
  },
  {
   "cell_type": "markdown",
   "metadata": {},
   "source": [
    "# NC 다이노스 선수 데이터 분석\n",
    "## 1. 데이터 적재 및 통합"
   ]
  },
  {
   "cell_type": "code",
   "execution_count": null,
   "metadata": {
    "collapsed": true
   },
   "outputs": [],
   "source": []
  },
  {
   "cell_type": "markdown",
   "metadata": {},
   "source": [
    "## 2. 2015년도 선수 기록을 '타율'로 내림차순 정렬"
   ]
  },
  {
   "cell_type": "code",
   "execution_count": null,
   "metadata": {
    "collapsed": true
   },
   "outputs": [],
   "source": []
  },
  {
   "cell_type": "markdown",
   "metadata": {},
   "source": [
    "## (실습 #1) 2013~2015년  선수별로 3년 간 평균 안타수를 구한 후, 평균 안타수가 가장 많은 상위 10명의 선수를 출력"
   ]
  },
  {
   "cell_type": "code",
   "execution_count": null,
   "metadata": {
    "collapsed": true
   },
   "outputs": [],
   "source": []
  },
  {
   "cell_type": "markdown",
   "metadata": {},
   "source": [
    "## (실습 #2) 2013~2015년 3년 동안 선수들의 평균 안타수, 총 안타수, 선수로 뛴 시즌수 구하기\n",
    "선수로 뛴 시즌수 = 해당 시즌의 선수 목록에 없다면 그 선수는 해당 시즌에 선수에 포함되지 않은 것임. "
   ]
  },
  {
   "cell_type": "code",
   "execution_count": null,
   "metadata": {},
   "outputs": [],
   "source": []
  },
  {
   "cell_type": "markdown",
   "metadata": {},
   "source": [
    "## (실습 #3) 실습 #1에서 구한 상위 10명의 타자들의 3년간 안타, 홈런, 타율을 출력하기"
   ]
  },
  {
   "cell_type": "code",
   "execution_count": 14,
   "metadata": {},
   "outputs": [
    {
     "data": {
      "text/html": [
       "<div>\n",
       "<style>\n",
       "    .dataframe thead tr:only-child th {\n",
       "        text-align: right;\n",
       "    }\n",
       "\n",
       "    .dataframe thead th {\n",
       "        text-align: left;\n",
       "    }\n",
       "\n",
       "    .dataframe tbody tr th {\n",
       "        vertical-align: top;\n",
       "    }\n",
       "</style>\n",
       "<table border=\"1\" class=\"dataframe\">\n",
       "  <thead>\n",
       "    <tr>\n",
       "      <th></th>\n",
       "      <th colspan=\"3\" halign=\"left\">안타</th>\n",
       "      <th colspan=\"3\" halign=\"left\">홈런</th>\n",
       "      <th colspan=\"3\" halign=\"left\">타율</th>\n",
       "    </tr>\n",
       "    <tr>\n",
       "      <th>년도</th>\n",
       "      <th>2013</th>\n",
       "      <th>2014</th>\n",
       "      <th>2015</th>\n",
       "      <th>2013</th>\n",
       "      <th>2014</th>\n",
       "      <th>2015</th>\n",
       "      <th>2013</th>\n",
       "      <th>2014</th>\n",
       "      <th>2015</th>\n",
       "    </tr>\n",
       "    <tr>\n",
       "      <th>선수명</th>\n",
       "      <th></th>\n",
       "      <th></th>\n",
       "      <th></th>\n",
       "      <th></th>\n",
       "      <th></th>\n",
       "      <th></th>\n",
       "      <th></th>\n",
       "      <th></th>\n",
       "      <th></th>\n",
       "    </tr>\n",
       "  </thead>\n",
       "  <tbody>\n",
       "    <tr>\n",
       "      <th>김종호</th>\n",
       "      <td>129</td>\n",
       "      <td>-</td>\n",
       "      <td>125.0</td>\n",
       "      <td>0</td>\n",
       "      <td>-</td>\n",
       "      <td>4.0</td>\n",
       "      <td>0.277</td>\n",
       "      <td>-</td>\n",
       "      <td>0.295</td>\n",
       "    </tr>\n",
       "    <tr>\n",
       "      <th>김태군</th>\n",
       "      <td>-</td>\n",
       "      <td>-</td>\n",
       "      <td>107.0</td>\n",
       "      <td>-</td>\n",
       "      <td>-</td>\n",
       "      <td>6.0</td>\n",
       "      <td>-</td>\n",
       "      <td>-</td>\n",
       "      <td>0.254</td>\n",
       "    </tr>\n",
       "    <tr>\n",
       "      <th>나성범</th>\n",
       "      <td>98</td>\n",
       "      <td>157</td>\n",
       "      <td>184.0</td>\n",
       "      <td>14</td>\n",
       "      <td>30</td>\n",
       "      <td>28.0</td>\n",
       "      <td>0.243</td>\n",
       "      <td>0.329</td>\n",
       "      <td>0.326</td>\n",
       "    </tr>\n",
       "    <tr>\n",
       "      <th>모창민</th>\n",
       "      <td>109</td>\n",
       "      <td>110</td>\n",
       "      <td>62.0</td>\n",
       "      <td>12</td>\n",
       "      <td>16</td>\n",
       "      <td>6.0</td>\n",
       "      <td>0.276</td>\n",
       "      <td>0.263</td>\n",
       "      <td>0.290</td>\n",
       "    </tr>\n",
       "    <tr>\n",
       "      <th>박민우</th>\n",
       "      <td>11</td>\n",
       "      <td>124</td>\n",
       "      <td>158.0</td>\n",
       "      <td>0</td>\n",
       "      <td>1</td>\n",
       "      <td>3.0</td>\n",
       "      <td>0.262</td>\n",
       "      <td>0.298</td>\n",
       "      <td>0.304</td>\n",
       "    </tr>\n",
       "    <tr>\n",
       "      <th>손시헌</th>\n",
       "      <td>-</td>\n",
       "      <td>90</td>\n",
       "      <td>108.0</td>\n",
       "      <td>-</td>\n",
       "      <td>5</td>\n",
       "      <td>13.0</td>\n",
       "      <td>-</td>\n",
       "      <td>0.293</td>\n",
       "      <td>0.245</td>\n",
       "    </tr>\n",
       "    <tr>\n",
       "      <th>이종욱</th>\n",
       "      <td>-</td>\n",
       "      <td>126</td>\n",
       "      <td>118.0</td>\n",
       "      <td>-</td>\n",
       "      <td>6</td>\n",
       "      <td>5.0</td>\n",
       "      <td>-</td>\n",
       "      <td>0.288</td>\n",
       "      <td>0.268</td>\n",
       "    </tr>\n",
       "    <tr>\n",
       "      <th>이호준</th>\n",
       "      <td>123</td>\n",
       "      <td>115</td>\n",
       "      <td>132.0</td>\n",
       "      <td>20</td>\n",
       "      <td>23</td>\n",
       "      <td>24.0</td>\n",
       "      <td>0.278</td>\n",
       "      <td>0.271</td>\n",
       "      <td>0.294</td>\n",
       "    </tr>\n",
       "    <tr>\n",
       "      <th>지석훈</th>\n",
       "      <td>68</td>\n",
       "      <td>58</td>\n",
       "      <td>111.0</td>\n",
       "      <td>3</td>\n",
       "      <td>6</td>\n",
       "      <td>11.0</td>\n",
       "      <td>0.220</td>\n",
       "      <td>0.274</td>\n",
       "      <td>0.267</td>\n",
       "    </tr>\n",
       "    <tr>\n",
       "      <th>테임즈</th>\n",
       "      <td>-</td>\n",
       "      <td>152</td>\n",
       "      <td>180.0</td>\n",
       "      <td>-</td>\n",
       "      <td>37</td>\n",
       "      <td>47.0</td>\n",
       "      <td>-</td>\n",
       "      <td>0.343</td>\n",
       "      <td>0.381</td>\n",
       "    </tr>\n",
       "  </tbody>\n",
       "</table>\n",
       "</div>"
      ],
      "text/plain": [
       "      안타               홈런                타율              \n",
       "년도  2013 2014   2015 2013 2014  2015   2013   2014   2015\n",
       "선수명                                                      \n",
       "김종호  129    -  125.0    0    -   4.0  0.277      -  0.295\n",
       "김태군    -    -  107.0    -    -   6.0      -      -  0.254\n",
       "나성범   98  157  184.0   14   30  28.0  0.243  0.329  0.326\n",
       "모창민  109  110   62.0   12   16   6.0  0.276  0.263  0.290\n",
       "박민우   11  124  158.0    0    1   3.0  0.262  0.298  0.304\n",
       "손시헌    -   90  108.0    -    5  13.0      -  0.293  0.245\n",
       "이종욱    -  126  118.0    -    6   5.0      -  0.288  0.268\n",
       "이호준  123  115  132.0   20   23  24.0  0.278  0.271  0.294\n",
       "지석훈   68   58  111.0    3    6  11.0  0.220  0.274  0.267\n",
       "테임즈    -  152  180.0    -   37  47.0      -  0.343  0.381"
      ]
     },
     "execution_count": 14,
     "metadata": {},
     "output_type": "execute_result"
    }
   ],
   "source": []
  },
  {
   "cell_type": "markdown",
   "metadata": {},
   "source": [
    "## (실습 #4) 3년 모두 뛴 선수들의 목록 구하기"
   ]
  },
  {
   "cell_type": "code",
   "execution_count": null,
   "metadata": {},
   "outputs": [],
   "source": []
  },
  {
   "cell_type": "markdown",
   "metadata": {},
   "source": [
    "## (실습 #5) 년도별 팀의 기록 (총 안타수, 총 홈런수, 총 도루수)을 출력"
   ]
  },
  {
   "cell_type": "code",
   "execution_count": 15,
   "metadata": {
    "scrolled": true
   },
   "outputs": [
    {
     "data": {
      "text/html": [
       "<div>\n",
       "<style>\n",
       "    .dataframe thead tr:only-child th {\n",
       "        text-align: right;\n",
       "    }\n",
       "\n",
       "    .dataframe thead th {\n",
       "        text-align: left;\n",
       "    }\n",
       "\n",
       "    .dataframe tbody tr th {\n",
       "        vertical-align: top;\n",
       "    }\n",
       "</style>\n",
       "<table border=\"1\" class=\"dataframe\">\n",
       "  <thead>\n",
       "    <tr style=\"text-align: right;\">\n",
       "      <th></th>\n",
       "      <th>도루</th>\n",
       "      <th>안타</th>\n",
       "      <th>홈런</th>\n",
       "    </tr>\n",
       "    <tr>\n",
       "      <th>년도</th>\n",
       "      <th></th>\n",
       "      <th></th>\n",
       "      <th></th>\n",
       "    </tr>\n",
       "  </thead>\n",
       "  <tbody>\n",
       "    <tr>\n",
       "      <th>2013</th>\n",
       "      <td>133</td>\n",
       "      <td>814</td>\n",
       "      <td>63</td>\n",
       "    </tr>\n",
       "    <tr>\n",
       "      <th>2014</th>\n",
       "      <td>118</td>\n",
       "      <td>1039</td>\n",
       "      <td>139</td>\n",
       "    </tr>\n",
       "    <tr>\n",
       "      <th>2015</th>\n",
       "      <td>201</td>\n",
       "      <td>1380</td>\n",
       "      <td>158</td>\n",
       "    </tr>\n",
       "  </tbody>\n",
       "</table>\n",
       "</div>"
      ],
      "text/plain": [
       "       도루    안타   홈런\n",
       "년도                  \n",
       "2013  133   814   63\n",
       "2014  118  1039  139\n",
       "2015  201  1380  158"
      ]
     },
     "execution_count": 15,
     "metadata": {},
     "output_type": "execute_result"
    }
   ],
   "source": []
  },
  {
   "cell_type": "markdown",
   "metadata": {},
   "source": [
    "##  (실습 #6) 조건 추가. 팀 타율도 함께 출력 \n",
    "### 팀 타율은 선수 타율의 평균으로 가정"
   ]
  },
  {
   "cell_type": "code",
   "execution_count": 18,
   "metadata": {},
   "outputs": [
    {
     "data": {
      "text/html": [
       "<div>\n",
       "<style>\n",
       "    .dataframe thead tr:only-child th {\n",
       "        text-align: right;\n",
       "    }\n",
       "\n",
       "    .dataframe thead th {\n",
       "        text-align: left;\n",
       "    }\n",
       "\n",
       "    .dataframe tbody tr th {\n",
       "        vertical-align: top;\n",
       "    }\n",
       "</style>\n",
       "<table border=\"1\" class=\"dataframe\">\n",
       "  <thead>\n",
       "    <tr style=\"text-align: right;\">\n",
       "      <th></th>\n",
       "      <th>도루</th>\n",
       "      <th>안타</th>\n",
       "      <th>타율</th>\n",
       "      <th>홈런</th>\n",
       "    </tr>\n",
       "    <tr>\n",
       "      <th>년도</th>\n",
       "      <th></th>\n",
       "      <th></th>\n",
       "      <th></th>\n",
       "      <th></th>\n",
       "    </tr>\n",
       "  </thead>\n",
       "  <tbody>\n",
       "    <tr>\n",
       "      <th>2013</th>\n",
       "      <td>132</td>\n",
       "      <td>814</td>\n",
       "      <td>0.232895</td>\n",
       "      <td>63</td>\n",
       "    </tr>\n",
       "    <tr>\n",
       "      <th>2014</th>\n",
       "      <td>118</td>\n",
       "      <td>1039</td>\n",
       "      <td>0.206950</td>\n",
       "      <td>139</td>\n",
       "    </tr>\n",
       "    <tr>\n",
       "      <th>2015</th>\n",
       "      <td>201</td>\n",
       "      <td>1380</td>\n",
       "      <td>0.245550</td>\n",
       "      <td>158</td>\n",
       "    </tr>\n",
       "  </tbody>\n",
       "</table>\n",
       "</div>"
      ],
      "text/plain": [
       "       도루    안타        타율   홈런\n",
       "년도                            \n",
       "2013  132   814  0.232895   63\n",
       "2014  118  1039  0.206950  139\n",
       "2015  201  1380  0.245550  158"
      ]
     },
     "execution_count": 18,
     "metadata": {},
     "output_type": "execute_result"
    }
   ],
   "source": []
  }
 ],
 "metadata": {
  "kernelspec": {
   "display_name": "Python 3",
   "language": "python",
   "name": "python3"
  },
  "language_info": {
   "codemirror_mode": {
    "name": "ipython",
    "version": 3
   },
   "file_extension": ".py",
   "mimetype": "text/x-python",
   "name": "python",
   "nbconvert_exporter": "python",
   "pygments_lexer": "ipython3",
   "version": "3.7.3"
  },
  "toc": {
   "base_numbering": 1,
   "nav_menu": {},
   "number_sections": true,
   "sideBar": true,
   "skip_h1_title": false,
   "title_cell": "Table of Contents",
   "title_sidebar": "Contents",
   "toc_cell": false,
   "toc_position": {},
   "toc_section_display": true,
   "toc_window_display": false
  }
 },
 "nbformat": 4,
 "nbformat_minor": 2
}
