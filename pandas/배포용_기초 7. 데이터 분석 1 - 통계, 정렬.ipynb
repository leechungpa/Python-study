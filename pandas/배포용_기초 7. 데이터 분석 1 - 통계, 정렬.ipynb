{
 "cells": [
  {
   "cell_type": "code",
   "execution_count": 1,
   "metadata": {},
   "outputs": [],
   "source": [
    "import pandas as pd\n",
    "from pandas import Series, DataFrame\n",
    "import numpy as np"
   ]
  },
  {
   "cell_type": "markdown",
   "metadata": {},
   "source": [
    "# 7-1. 통계 함수\n",
    "## 주요 통계 함수 목록\n",
    "<img src=\"img/7강/통계함수.jpg\" alt=\"통계함수\" style=\"width: 400px;\"/>\n",
    "\n",
    "## 주요 함수 옵션\n",
    "<img src=\"img/7강/주요함수옵션.jpg\" alt=\"주요옵션\" style=\"width: 400px;\"/>\n",
    "\n",
    "### ** axis는 통계함수 뿐만 아니라, 많은 함수에서 동일하게 적용됨. **"
   ]
  },
  {
   "cell_type": "code",
   "execution_count": 2,
   "metadata": {},
   "outputs": [],
   "source": [
    "# 샘플 데이터 생성\n",
    "np.random.seed(0)\n",
    "df = pd.DataFrame(np.random.randint(50, 100, (5, 6)), \n",
    "                  columns=[[2016, 2016, 2016, 2017, 2017, 2017], ['영어','수학', '과학','영어','수학', '과학']], \n",
    "                  index = ['Kim','Park','Lee','Jung','Moon'])\n",
    "df.index.set_names('학생명', inplace = True)\n",
    "df.columns.set_names(['년도','과목'], inplace = True)\n",
    "df.loc['Moon', (2016, '과학')] = np.nan"
   ]
  },
  {
   "cell_type": "code",
   "execution_count": 3,
   "metadata": {},
   "outputs": [
    {
     "data": {
      "text/html": [
       "<div>\n",
       "<style scoped>\n",
       "    .dataframe tbody tr th:only-of-type {\n",
       "        vertical-align: middle;\n",
       "    }\n",
       "\n",
       "    .dataframe tbody tr th {\n",
       "        vertical-align: top;\n",
       "    }\n",
       "\n",
       "    .dataframe thead tr th {\n",
       "        text-align: left;\n",
       "    }\n",
       "\n",
       "    .dataframe thead tr:last-of-type th {\n",
       "        text-align: right;\n",
       "    }\n",
       "</style>\n",
       "<table border=\"1\" class=\"dataframe\">\n",
       "  <thead>\n",
       "    <tr>\n",
       "      <th>년도</th>\n",
       "      <th colspan=\"3\" halign=\"left\">2016</th>\n",
       "      <th colspan=\"3\" halign=\"left\">2017</th>\n",
       "    </tr>\n",
       "    <tr>\n",
       "      <th>과목</th>\n",
       "      <th>영어</th>\n",
       "      <th>수학</th>\n",
       "      <th>과학</th>\n",
       "      <th>영어</th>\n",
       "      <th>수학</th>\n",
       "      <th>과학</th>\n",
       "    </tr>\n",
       "    <tr>\n",
       "      <th>학생명</th>\n",
       "      <th></th>\n",
       "      <th></th>\n",
       "      <th></th>\n",
       "      <th></th>\n",
       "      <th></th>\n",
       "      <th></th>\n",
       "    </tr>\n",
       "  </thead>\n",
       "  <tbody>\n",
       "    <tr>\n",
       "      <th>Kim</th>\n",
       "      <td>94</td>\n",
       "      <td>97</td>\n",
       "      <td>50.0</td>\n",
       "      <td>53</td>\n",
       "      <td>53</td>\n",
       "      <td>89</td>\n",
       "    </tr>\n",
       "    <tr>\n",
       "      <th>Park</th>\n",
       "      <td>59</td>\n",
       "      <td>69</td>\n",
       "      <td>71.0</td>\n",
       "      <td>86</td>\n",
       "      <td>73</td>\n",
       "      <td>56</td>\n",
       "    </tr>\n",
       "    <tr>\n",
       "      <th>Lee</th>\n",
       "      <td>74</td>\n",
       "      <td>74</td>\n",
       "      <td>62.0</td>\n",
       "      <td>51</td>\n",
       "      <td>88</td>\n",
       "      <td>89</td>\n",
       "    </tr>\n",
       "    <tr>\n",
       "      <th>Jung</th>\n",
       "      <td>73</td>\n",
       "      <td>96</td>\n",
       "      <td>74.0</td>\n",
       "      <td>67</td>\n",
       "      <td>87</td>\n",
       "      <td>75</td>\n",
       "    </tr>\n",
       "    <tr>\n",
       "      <th>Moon</th>\n",
       "      <td>63</td>\n",
       "      <td>58</td>\n",
       "      <td>NaN</td>\n",
       "      <td>70</td>\n",
       "      <td>66</td>\n",
       "      <td>55</td>\n",
       "    </tr>\n",
       "  </tbody>\n",
       "</table>\n",
       "</div>"
      ],
      "text/plain": [
       "년도   2016           2017        \n",
       "과목     영어  수학    과학   영어  수학  과학\n",
       "학생명                             \n",
       "Kim    94  97  50.0   53  53  89\n",
       "Park   59  69  71.0   86  73  56\n",
       "Lee    74  74  62.0   51  88  89\n",
       "Jung   73  96  74.0   67  87  75\n",
       "Moon   63  58   NaN   70  66  55"
      ]
     },
     "execution_count": 3,
     "metadata": {},
     "output_type": "execute_result"
    }
   ],
   "source": [
    "df"
   ]
  },
  {
   "cell_type": "code",
   "execution_count": null,
   "metadata": {},
   "outputs": [],
   "source": [
    "# 2016년 성적만 선택해서 df2016에 저장\n"
   ]
  },
  {
   "cell_type": "code",
   "execution_count": null,
   "metadata": {},
   "outputs": [],
   "source": [
    "# 1) count() - NaN 값을 제외한 데이터의 갯수 \n"
   ]
  },
  {
   "cell_type": "code",
   "execution_count": null,
   "metadata": {},
   "outputs": [],
   "source": []
  },
  {
   "cell_type": "code",
   "execution_count": null,
   "metadata": {},
   "outputs": [],
   "source": [
    "# 2) sum() - 값의 합을 계산\n",
    "## 기본적으로 함수는 각 컬럼에 있는 로우(row)들의 값들로 수행됨. (기본값 axis =0) \n",
    "## 모든 통계 함수는 동일함.\n"
   ]
  },
  {
   "cell_type": "code",
   "execution_count": null,
   "metadata": {
    "scrolled": false
   },
   "outputs": [],
   "source": [
    "# 각 학생들의 과목 평균 구하기\n"
   ]
  },
  {
   "cell_type": "code",
   "execution_count": null,
   "metadata": {},
   "outputs": [],
   "source": [
    "# 3) describe() - 각 컬럼에 대한 요약 통계\n"
   ]
  },
  {
   "cell_type": "code",
   "execution_count": null,
   "metadata": {
    "scrolled": true
   },
   "outputs": [],
   "source": [
    "# 실습 1.df 대상으로 년도별 과목별 평균 성적을 출력\n"
   ]
  },
  {
   "cell_type": "code",
   "execution_count": null,
   "metadata": {},
   "outputs": [],
   "source": [
    "# 실습 2. df 대상으로 학생별로 모든 년도/과목에 대한 전체 평균을 출력\n"
   ]
  },
  {
   "cell_type": "code",
   "execution_count": null,
   "metadata": {},
   "outputs": [],
   "source": [
    "# 실습 3. 년도별 학생별 평균 구하기 \n",
    "# 컬럼명이 (2016, '평균')으로 2016년 학생별 평균을 저장.\n",
    "# 컬럼명이 (2017, '평균')으로 2017년 학생별 평균을 저장."
   ]
  },
  {
   "cell_type": "code",
   "execution_count": null,
   "metadata": {},
   "outputs": [],
   "source": []
  },
  {
   "cell_type": "markdown",
   "metadata": {},
   "source": [
    "# 7-2. 정렬\n",
    "## * 데이터 정렬 : sort_values()\n",
    "<img src=\"img/7강/데이터프레임정렬.jpg\" alt=\"DataFrame.sort_values\" style=\"width: 600px;\"/>\n",
    "## * 인덱스 정렬 : sort_index() - 인자는 sort_values()와 동일\n",
    "### http://pandas.pydata.org/pandas-docs/stable/generated/pandas.DataFrame.sort_values.html#pandas.DataFrame.sort_values"
   ]
  },
  {
   "cell_type": "markdown",
   "metadata": {},
   "source": [
    "## 1) Series 정렬"
   ]
  },
  {
   "cell_type": "code",
   "execution_count": null,
   "metadata": {
    "scrolled": true
   },
   "outputs": [],
   "source": [
    "# Series 정렬을 위한 샘플 데이터\n",
    "sr = Series([3,5,2,1,7,10], index = list('bcafed'))\n",
    "sr"
   ]
  },
  {
   "cell_type": "code",
   "execution_count": null,
   "metadata": {},
   "outputs": [],
   "source": [
    "# 로우 인덱스 라벨의 값으로 정렬\n"
   ]
  },
  {
   "cell_type": "code",
   "execution_count": null,
   "metadata": {
    "scrolled": true
   },
   "outputs": [],
   "source": [
    "# Series의 값으로 정렬 (기본값 = 오름차순)\n"
   ]
  },
  {
   "cell_type": "code",
   "execution_count": null,
   "metadata": {},
   "outputs": [],
   "source": [
    "# Series의 값으로 내림차순 정렬\n"
   ]
  },
  {
   "cell_type": "markdown",
   "metadata": {},
   "source": [
    "## 2) DataFrame 정렬"
   ]
  },
  {
   "cell_type": "code",
   "execution_count": null,
   "metadata": {
    "scrolled": true
   },
   "outputs": [],
   "source": []
  },
  {
   "cell_type": "code",
   "execution_count": null,
   "metadata": {
    "scrolled": true
   },
   "outputs": [],
   "source": [
    "# 학생명으로 정렬(row index로 정렬)"
   ]
  },
  {
   "cell_type": "code",
   "execution_count": null,
   "metadata": {},
   "outputs": [],
   "source": [
    "# 컬럼 인덱스를 정렬하고자 할 때에는 axis 인자 활용"
   ]
  },
  {
   "cell_type": "code",
   "execution_count": null,
   "metadata": {
    "scrolled": true
   },
   "outputs": [],
   "source": [
    "#df2016을 수학성적으로 오름차순 정렬\n"
   ]
  },
  {
   "cell_type": "code",
   "execution_count": null,
   "metadata": {},
   "outputs": [],
   "source": [
    "# df2016을 영어 성적으로 내림차순 정렬\n"
   ]
  },
  {
   "cell_type": "code",
   "execution_count": null,
   "metadata": {},
   "outputs": [],
   "source": [
    "# 계층 색인 정렬\n"
   ]
  },
  {
   "cell_type": "code",
   "execution_count": null,
   "metadata": {
    "scrolled": true
   },
   "outputs": [],
   "source": [
    "# df를 2017년 수학 성적 기준으로 내림차순 정렬\n"
   ]
  }
 ],
 "metadata": {
  "kernelspec": {
   "display_name": "Python 3",
   "language": "python",
   "name": "python3"
  },
  "language_info": {
   "codemirror_mode": {
    "name": "ipython",
    "version": 3
   },
   "file_extension": ".py",
   "mimetype": "text/x-python",
   "name": "python",
   "nbconvert_exporter": "python",
   "pygments_lexer": "ipython3",
   "version": "3.7.3"
  },
  "toc": {
   "base_numbering": 1,
   "nav_menu": {},
   "number_sections": true,
   "sideBar": true,
   "skip_h1_title": false,
   "title_cell": "Table of Contents",
   "title_sidebar": "Contents",
   "toc_cell": false,
   "toc_position": {},
   "toc_section_display": true,
   "toc_window_display": false
  }
 },
 "nbformat": 4,
 "nbformat_minor": 2
}
