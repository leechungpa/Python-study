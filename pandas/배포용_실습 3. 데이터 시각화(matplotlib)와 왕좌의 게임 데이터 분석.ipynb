{
 "cells": [
  {
   "cell_type": "code",
   "execution_count": 1,
   "metadata": {},
   "outputs": [],
   "source": [
    "import pandas as pd\n",
    "import numpy as np\n",
    "from pandas import Series, DataFrame"
   ]
  },
  {
   "cell_type": "markdown",
   "metadata": {},
   "source": [
    "# 데이터 시각화 (Matplotlib) 활용와 왕좌의 게임 데이터 분석"
   ]
  },
  {
   "cell_type": "markdown",
   "metadata": {},
   "source": [
    "## 1. <a href = https://matplotlib.org/>Matplotlib</a> 개요\n",
    "- 파이썬에서 자료를 차트(chart)나 플롯(plot)으로 시각화(visulaization)하는 패키지  \n",
    "- 2002년 파이썬에서 MATLAB과 유사한 인터페이스를 지원하고자 프로젝트가 시작됨 \n",
    "- 데이터 시각화를 위해 가장 많이 활용되는 패키지. 최근 bokeh, seaborn과 같은 새로운 시각화 패키지들도 많이 활용되지만, 이 패키지들도 모두 matplotlib과 비슷한 인터페이스를 지원하므로, matplotlib를 이해하면, 배우는 데 어렵지 않다.  \n",
    "- Matplotlib는 라인 플롯, 바 차트, 파이차트, 히스토그램 등 정형화된 차트나 플롯 이외에도 저수준 api를 사용한 다양한 시각화 기능 제공\n",
    "- <a href = https://matplotlib.org/gallery/index.html> matplotlib 갤러리</a>에서 다양한 예제/샘플 참고 가능"
   ]
  },
  {
   "cell_type": "markdown",
   "metadata": {},
   "source": [
    "## 2. Matplotlib 사용법\n",
    "Matplotlib를 사용하기 위해서는 먼저 <a href = https://matplotlib.org/api/pyplot_api.html>matplotlib.pyplot</a> 을 아래와 같이 import 한다. \n",
    "pyplot 객체는 matplotlib의 핵심 모듈로써, figure 생성, 그래프 생성/수정 등 시각화에 필요한 중요 기능을 제공한다. 현재의 figure의 현재 axes에 함수의 결과를 적용한다.  \n",
    "\n",
    "- figure : 그래프를 그리기 위한 하얀 도화지 개념\n",
    "- axes (subplot) : figure 안에 그리는 그래프를 지칭함.axes 혹은 subplot이라고 한다. 하나의 figure 안에 여러 개의 axes를 그릴 수 있으나, 하나의 axes는 여러 개의 figure에 속할 수 없다.\n",
    "<img src=\"img/예제실습/그림의구조.jpg\" alt=\"그림의구조\" style=\"width: 1200px;\"/>\n",
    "\n",
    "pyplot을 다른 이름으로 사용할 수 있지만, 보통 plt 라는 alias를 사용한다.   \n",
    "다음 plt.plot()은 라인 플롯을 그리는 함수인데, X축은 a,b,c이고, 값은 10, 20, 30인 라인 플롯을 그리는 예제이다.   \n",
    "마지막으로 실제 그림을 표시하는 함수인 plt.show()을 호출한다. 보통 plot() 함수를 수행하면 그래프가 표시되므로, plt.show()는 생략하는 경우도 많다.   "
   ]
  },
  {
   "cell_type": "code",
   "execution_count": null,
   "metadata": {},
   "outputs": [],
   "source": []
  },
  {
   "cell_type": "markdown",
   "metadata": {},
   "source": [
    "## 3. matplotlib 간단 실습"
   ]
  },
  {
   "cell_type": "markdown",
   "metadata": {},
   "source": [
    "### 3.1 하나의 그래프 그리기\n",
    "3.1.1 line graph 그리기"
   ]
  },
  {
   "cell_type": "code",
   "execution_count": 17,
   "metadata": {},
   "outputs": [
    {
     "data": {
      "text/plain": [
       "a     1\n",
       "b     2\n",
       "c     4\n",
       "d     8\n",
       "e    16\n",
       "dtype: int64"
      ]
     },
     "execution_count": 17,
     "metadata": {},
     "output_type": "execute_result"
    }
   ],
   "source": [
    "sr = Series([1,2,4,8,16], index = list('abcde')) # 실습을 위한 샘플 데이터 생성\n",
    "sr"
   ]
  },
  {
   "cell_type": "markdown",
   "metadata": {},
   "source": [
    "3.1.2 bar graph 그리기"
   ]
  },
  {
   "cell_type": "code",
   "execution_count": 20,
   "metadata": {},
   "outputs": [
    {
     "data": {
      "text/plain": [
       "a    738\n",
       "b    913\n",
       "c    111\n",
       "d    739\n",
       "e    338\n",
       "dtype: int64"
      ]
     },
     "execution_count": 20,
     "metadata": {},
     "output_type": "execute_result"
    }
   ],
   "source": [
    "# 샘플 데이터 생성\n",
    "import random \n",
    "sr2 = Series(random.sample(range(100, 1000), 5), \n",
    "             index = list('abcde'))\n",
    "sr2"
   ]
  },
  {
   "cell_type": "code",
   "execution_count": null,
   "metadata": {},
   "outputs": [],
   "source": []
  },
  {
   "cell_type": "markdown",
   "metadata": {},
   "source": [
    "pandas의 Series와 DataFrame은 데이터 시각화를 위하여 plot() 함수를 제공한다. plot() 함수를 사용하면, 내부적으로 matplotlib에 연관 함수가 호출되면서 그래프가 그려진다."
   ]
  },
  {
   "cell_type": "code",
   "execution_count": null,
   "metadata": {},
   "outputs": [],
   "source": []
  },
  {
   "cell_type": "markdown",
   "metadata": {},
   "source": [
    "3.1.3 두 개의 그래프를 하나로 그리기\n",
    "\n",
    "- <a href = https://matplotlib.org/3.1.0/api/_as_gen/matplotlib.pyplot.subplots.html> plt.subplots() </a> 함수는 새로운 figure와 axes(subplots)를 생성해 준다."
   ]
  },
  {
   "cell_type": "code",
   "execution_count": null,
   "metadata": {},
   "outputs": [],
   "source": []
  },
  {
   "cell_type": "markdown",
   "metadata": {},
   "source": [
    "3.14 두 개 그래프를 서로 다른 y축 적용하기"
   ]
  },
  {
   "cell_type": "code",
   "execution_count": null,
   "metadata": {},
   "outputs": [],
   "source": []
  },
  {
   "cell_type": "markdown",
   "metadata": {},
   "source": [
    "### 3.2. 여러 개 그래프 그리기 \n",
    "하나의 figure 안에 여러 개의 axes를 그리기"
   ]
  },
  {
   "cell_type": "code",
   "execution_count": null,
   "metadata": {},
   "outputs": [],
   "source": []
  },
  {
   "cell_type": "markdown",
   "metadata": {
    "heading_collapsed": true
   },
   "source": [
    "### 3.3. <a href = https://matplotlib.org/3.1.1/tutorials/introductory/usage.html#what-is-a-backend> backend </a> 개념\n",
    "Matplotlib은 매우 다양한 usecase에 사용되며, 이를 모두 충족시키기 위하여 다양한 backend를 지원함.  \n",
    "가장 많이 활용하는 옵션은 inline으로, 그래프를 output창에 바로 표현되도록 하는 옵션이며, <strong>%maptlotlib inline</strong>를 실행하여 설정한다. \n",
    "\n",
    "\n",
    "%로 시작하는 명령어는 Cell Magic 명령어로써, 파이썬 코드가 아니라 Jupyter에게 특정 기능을 수행하도록 하는 명령이다. 즉, %matplotlib inline 명령은 Jupyter에게 matplotlib 그래프를 출력 영역에 표시할 것을 지시하는 명령이다."
   ]
  },
  {
   "cell_type": "code",
   "execution_count": 39,
   "metadata": {
    "hidden": true
   },
   "outputs": [],
   "source": [
    "# backend를 inline으로 설정\n",
    "%matplotlib inline"
   ]
  },
  {
   "cell_type": "code",
   "execution_count": 40,
   "metadata": {
    "hidden": true
   },
   "outputs": [
    {
     "data": {
      "text/plain": [
       "[<matplotlib.lines.Line2D at 0x19752216780>]"
      ]
     },
     "execution_count": 40,
     "metadata": {},
     "output_type": "execute_result"
    },
    {
     "data": {
      "image/png": "[encoded data removed]",
      "text/plain": [
       "<Figure size 432x288 with 1 Axes>"
      ]
     },
     "metadata": {
      "needs_background": "light"
     },
     "output_type": "display_data"
    }
   ],
   "source": [
    "plt.plot(sr)"
   ]
  },
  {
   "cell_type": "markdown",
   "metadata": {
    "hidden": true
   },
   "source": [
    "만약 그래프를 생성한 이후, interactive하게 그래프를 다루고 싶은 경우에는 backend를 interactive backend로 설정하면 된다.  \n",
    "예를 들어, <strong>%matplotlib nbagg</strong>를 실행하여 <strong>nbagg</strong>으로 설정을 변경할 수 있다.   \n",
    "보다 다양한 설정 옵션을 확인하려면 <a href = https://matplotlib.org/3.1.1/tutorials/introductory/usage.html#what-is-a-backend> 여기 </a>를 참고하면 된다.  \n",
    "\n",
    "아래와 같이 nbagg로 설정한 후, 그래프를 생성하면 output 창에 몇몇 버튼과 함께 그래프가 그려진다.  \n",
    "버튼들을 활용하여 zoon-in, zoom-out이 가능하다.   \n",
    "그래프를 그린 이후, set_title(), set_xlabel() 함수를 수행하면 현재 그래프에 적용되는 것을 확인할 수 있으며, 오른쪽 상단에 있는 파란색 버튼을 클릭하면 interactive 모드가 종료된다. "
   ]
  },
  {
   "cell_type": "code",
   "execution_count": 50,
   "metadata": {
    "hidden": true,
    "scrolled": true
   },
   "outputs": [
    {
     "data": {
      "application/javascript": [
       "/* Put everything inside the global mpl namespace */\n",
       "window.mpl = {};\n",
       "\n",
       "\n",
       "mpl.get_websocket_type = function() {\n",
       "    if (typeof(WebSocket) !== 'undefined') {\n",
       "        return WebSocket;\n",
       "    } else if (typeof(MozWebSocket) !== 'undefined') {\n",
       "        return MozWebSocket;\n",
       "    } else {\n",
       "        alert('Your browser does not have WebSocket support.' +\n",
       "              'Please try Chrome, Safari or Firefox ≥ 6. ' +\n",
       "              'Firefox 4 and 5 are also supported but you ' +\n",
       "              'have to enable WebSockets in about:config.');\n",
       "    };\n",
       "}\n",
       "\n",
       "mpl.figure = function(figure_id, websocket, ondownload, parent_element) {\n",
       "    this.id = figure_id;\n",
       "\n",
       "    this.ws = websocket;\n",
       "\n",
       "    this.supports_binary = (this.ws.binaryType != undefined);\n",
       "\n",
       "    if (!this.supports_binary) {\n",
       "        var warnings = document.getElementById(\"mpl-warnings\");\n",
       "        if (warnings) {\n",
       "            warnings.style.display = 'block';\n",
       "            warnings.textContent = (\n",
       "                \"This browser does not support binary websocket messages. \" +\n",
       "                    \"Performance may be slow.\");\n",
       "        }\n",
       "    }\n",
       "\n",
       "    this.imageObj = new Image();\n",
       "\n",
       "    this.context = undefined;\n",
       "    this.message = undefined;\n",
       "    this.canvas = undefined;\n",
       "    this.rubberband_canvas = undefined;\n",
       "    this.rubberband_context = undefined;\n",
       "    this.format_dropdown = undefined;\n",
       "\n",
       "    this.image_mode = 'full';\n",
       "\n",
       "    this.root = $('<div/>');\n",
       "    this._root_extra_style(this.root)\n",
       "    this.root.attr('style', 'display: inline-block');\n",
       "\n",
       "    $(parent_element).append(this.root);\n",
       "\n",
       "    this._init_header(this);\n",
       "    this._init_canvas(this);\n",
       "    this._init_toolbar(this);\n",
       "\n",
       "    var fig = this;\n",
       "\n",
       "    this.waiting = false;\n",
       "\n",
       "    this.ws.onopen =  function () {\n",
       "            fig.send_message(\"supports_binary\", {value: fig.supports_binary});\n",
       "            fig.send_message(\"send_image_mode\", {});\n",
       "            if (mpl.ratio != 1) {\n",
       "                fig.send_message(\"set_dpi_ratio\", {'dpi_ratio': mpl.ratio});\n",
       "            }\n",
       "            fig.send_message(\"refresh\", {});\n",
       "        }\n",
       "\n",
       "    this.imageObj.onload = function() {\n",
       "            if (fig.image_mode == 'full') {\n",
       "                // Full images could contain transparency (where diff images\n",
       "                // almost always do), so we need to clear the canvas so that\n",
       "                // there is no ghosting.\n",
       "                fig.context.clearRect(0, 0, fig.canvas.width, fig.canvas.height);\n",
       "            }\n",
       "            fig.context.drawImage(fig.imageObj, 0, 0);\n",
       "        };\n",
       "\n",
       "    this.imageObj.onunload = function() {\n",
       "        fig.ws.close();\n",
       "    }\n",
       "\n",
       "    this.ws.onmessage = this._make_on_message_function(this);\n",
       "\n",
       "    this.ondownload = ondownload;\n",
       "}\n",
       "\n",
       "mpl.figure.prototype._init_header = function() {\n",
       "    var titlebar = $(\n",
       "        '<div class=\"ui-dialog-titlebar ui-widget-header ui-corner-all ' +\n",
       "        'ui-helper-clearfix\"/>');\n",
       "    var titletext = $(\n",
       "        '<div class=\"ui-dialog-title\" style=\"width: 100%; ' +\n",
       "        'text-align: center; padding: 3px;\"/>');\n",
       "    titlebar.append(titletext)\n",
       "    this.root.append(titlebar);\n",
       "    this.header = titletext[0];\n",
       "}\n",
       "\n",
       "\n",
       "\n",
       "mpl.figure.prototype._canvas_extra_style = function(canvas_div) {\n",
       "\n",
       "}\n",
       "\n",
       "\n",
       "mpl.figure.prototype._root_extra_style = function(canvas_div) {\n",
       "\n",
       "}\n",
       "\n",
       "mpl.figure.prototype._init_canvas = function() {\n",
       "    var fig = this;\n",
       "\n",
       "    var canvas_div = $('<div/>');\n",
       "\n",
       "    canvas_div.attr('style', 'position: relative; clear: both; outline: 0');\n",
       "\n",
       "    function canvas_keyboard_event(event) {\n",
       "        return fig.key_event(event, event['data']);\n",
       "    }\n",
       "\n",
       "    canvas_div.keydown('key_press', canvas_keyboard_event);\n",
       "    canvas_div.keyup('key_release', canvas_keyboard_event);\n",
       "    this.canvas_div = canvas_div\n",
       "    this._canvas_extra_style(canvas_div)\n",
       "    this.root.append(canvas_div);\n",
       "\n",
       "    var canvas = $('<canvas/>');\n",
       "    canvas.addClass('mpl-canvas');\n",
       "    canvas.attr('style', \"left: 0; top: 0; z-index: 0; outline: 0\")\n",
       "\n",
       "    this.canvas = canvas[0];\n",
       "    this.context = canvas[0].getContext(\"2d\");\n",
       "\n",
       "    var backingStore = this.context.backingStorePixelRatio ||\n",
       "\tthis.context.webkitBackingStorePixelRatio ||\n",
       "\tthis.context.mozBackingStorePixelRatio ||\n",
       "\tthis.context.msBackingStorePixelRatio ||\n",
       "\tthis.context.oBackingStorePixelRatio ||\n",
       "\tthis.context.backingStorePixelRatio || 1;\n",
       "\n",
       "    mpl.ratio = (window.devicePixelRatio || 1) / backingStore;\n",
       "\n",
       "    var rubberband = $('<canvas/>');\n",
       "    rubberband.attr('style', \"position: absolute; left: 0; top: 0; z-index: 1;\")\n",
       "\n",
       "    var pass_mouse_events = true;\n",
       "\n",
       "    canvas_div.resizable({\n",
       "        start: function(event, ui) {\n",
       "            pass_mouse_events = false;\n",
       "        },\n",
       "        resize: function(event, ui) {\n",
       "            fig.request_resize(ui.size.width, ui.size.height);\n",
       "        },\n",
       "        stop: function(event, ui) {\n",
       "            pass_mouse_events = true;\n",
       "            fig.request_resize(ui.size.width, ui.size.height);\n",
       "        },\n",
       "    });\n",
       "\n",
       "    function mouse_event_fn(event) {\n",
       "        if (pass_mouse_events)\n",
       "            return fig.mouse_event(event, event['data']);\n",
       "    }\n",
       "\n",
       "    rubberband.mousedown('button_press', mouse_event_fn);\n",
       "    rubberband.mouseup('button_release', mouse_event_fn);\n",
       "    // Throttle sequential mouse events to 1 every 20ms.\n",
       "    rubberband.mousemove('motion_notify', mouse_event_fn);\n",
       "\n",
       "    rubberband.mouseenter('figure_enter', mouse_event_fn);\n",
       "    rubberband.mouseleave('figure_leave', mouse_event_fn);\n",
       "\n",
       "    canvas_div.on(\"wheel\", function (event) {\n",
       "        event = event.originalEvent;\n",
       "        event['data'] = 'scroll'\n",
       "        if (event.deltaY < 0) {\n",
       "            event.step = 1;\n",
       "        } else {\n",
       "            event.step = -1;\n",
       "        }\n",
       "        mouse_event_fn(event);\n",
       "    });\n",
       "\n",
       "    canvas_div.append(canvas);\n",
       "    canvas_div.append(rubberband);\n",
       "\n",
       "    this.rubberband = rubberband;\n",
       "    this.rubberband_canvas = rubberband[0];\n",
       "    this.rubberband_context = rubberband[0].getContext(\"2d\");\n",
       "    this.rubberband_context.strokeStyle = \"#000000\";\n",
       "\n",
       "    this._resize_canvas = function(width, height) {\n",
       "        // Keep the size of the canvas, canvas container, and rubber band\n",
       "        // canvas in synch.\n",
       "        canvas_div.css('width', width)\n",
       "        canvas_div.css('height', height)\n",
       "\n",
       "        canvas.attr('width', width * mpl.ratio);\n",
       "        canvas.attr('height', height * mpl.ratio);\n",
       "        canvas.attr('style', 'width: ' + width + 'px; height: ' + height + 'px;');\n",
       "\n",
       "        rubberband.attr('width', width);\n",
       "        rubberband.attr('height', height);\n",
       "    }\n",
       "\n",
       "    // Set the figure to an initial 600x600px, this will subsequently be updated\n",
       "    // upon first draw.\n",
       "    this._resize_canvas(600, 600);\n",
       "\n",
       "    // Disable right mouse context menu.\n",
       "    $(this.rubberband_canvas).bind(\"contextmenu\",function(e){\n",
       "        return false;\n",
       "    });\n",
       "\n",
       "    function set_focus () {\n",
       "        canvas.focus();\n",
       "        canvas_div.focus();\n",
       "    }\n",
       "\n",
       "    window.setTimeout(set_focus, 100);\n",
       "}\n",
       "\n",
       "mpl.figure.prototype._init_toolbar = function() {\n",
       "    var fig = this;\n",
       "\n",
       "    var nav_element = $('<div/>')\n",
       "    nav_element.attr('style', 'width: 100%');\n",
       "    this.root.append(nav_element);\n",
       "\n",
       "    // Define a callback function for later on.\n",
       "    function toolbar_event(event) {\n",
       "        return fig.toolbar_button_onclick(event['data']);\n",
       "    }\n",
       "    function toolbar_mouse_event(event) {\n",
       "        return fig.toolbar_button_onmouseover(event['data']);\n",
       "    }\n",
       "\n",
       "    for(var toolbar_ind in mpl.toolbar_items) {\n",
       "        var name = mpl.toolbar_items[toolbar_ind][0];\n",
       "        var tooltip = mpl.toolbar_items[toolbar_ind][1];\n",
       "        var image = mpl.toolbar_items[toolbar_ind][2];\n",
       "        var method_name = mpl.toolbar_items[toolbar_ind][3];\n",
       "\n",
       "        if (!name) {\n",
       "            // put a spacer in here.\n",
       "            continue;\n",
       "        }\n",
       "        var button = $('<button/>');\n",
       "        button.addClass('ui-button ui-widget ui-state-default ui-corner-all ' +\n",
       "                        'ui-button-icon-only');\n",
       "        button.attr('role', 'button');\n",
       "        button.attr('aria-disabled', 'false');\n",
       "        button.click(method_name, toolbar_event);\n",
       "        button.mouseover(tooltip, toolbar_mouse_event);\n",
       "\n",
       "        var icon_img = $('<span/>');\n",
       "        icon_img.addClass('ui-button-icon-primary ui-icon');\n",
       "        icon_img.addClass(image);\n",
       "        icon_img.addClass('ui-corner-all');\n",
       "\n",
       "        var tooltip_span = $('<span/>');\n",
       "        tooltip_span.addClass('ui-button-text');\n",
       "        tooltip_span.html(tooltip);\n",
       "\n",
       "        button.append(icon_img);\n",
       "        button.append(tooltip_span);\n",
       "\n",
       "        nav_element.append(button);\n",
       "    }\n",
       "\n",
       "    var fmt_picker_span = $('<span/>');\n",
       "\n",
       "    var fmt_picker = $('<select/>');\n",
       "    fmt_picker.addClass('mpl-toolbar-option ui-widget ui-widget-content');\n",
       "    fmt_picker_span.append(fmt_picker);\n",
       "    nav_element.append(fmt_picker_span);\n",
       "    this.format_dropdown = fmt_picker[0];\n",
       "\n",
       "    for (var ind in mpl.extensions) {\n",
       "        var fmt = mpl.extensions[ind];\n",
       "        var option = $(\n",
       "            '<option/>', {selected: fmt === mpl.default_extension}).html(fmt);\n",
       "        fmt_picker.append(option)\n",
       "    }\n",
       "\n",
       "    // Add hover states to the ui-buttons\n",
       "    $( \".ui-button\" ).hover(\n",
       "        function() { $(this).addClass(\"ui-state-hover\");},\n",
       "        function() { $(this).removeClass(\"ui-state-hover\");}\n",
       "    );\n",
       "\n",
       "    var status_bar = $('<span class=\"mpl-message\"/>');\n",
       "    nav_element.append(status_bar);\n",
       "    this.message = status_bar[0];\n",
       "}\n",
       "\n",
       "mpl.figure.prototype.request_resize = function(x_pixels, y_pixels) {\n",
       "    // Request matplotlib to resize the figure. Matplotlib will then trigger a resize in the client,\n",
       "    // which will in turn request a refresh of the image.\n",
       "    this.send_message('resize', {'width': x_pixels, 'height': y_pixels});\n",
       "}\n",
       "\n",
       "mpl.figure.prototype.send_message = function(type, properties) {\n",
       "    properties['type'] = type;\n",
       "    properties['figure_id'] = this.id;\n",
       "    this.ws.send(JSON.stringify(properties));\n",
       "}\n",
       "\n",
       "mpl.figure.prototype.send_draw_message = function() {\n",
       "    if (!this.waiting) {\n",
       "        this.waiting = true;\n",
       "        this.ws.send(JSON.stringify({type: \"draw\", figure_id: this.id}));\n",
       "    }\n",
       "}\n",
       "\n",
       "\n",
       "mpl.figure.prototype.handle_save = function(fig, msg) {\n",
       "    var format_dropdown = fig.format_dropdown;\n",
       "    var format = format_dropdown.options[format_dropdown.selectedIndex].value;\n",
       "    fig.ondownload(fig, format);\n",
       "}\n",
       "\n",
       "\n",
       "mpl.figure.prototype.handle_resize = function(fig, msg) {\n",
       "    var size = msg['size'];\n",
       "    if (size[0] != fig.canvas.width || size[1] != fig.canvas.height) {\n",
       "        fig._resize_canvas(size[0], size[1]);\n",
       "        fig.send_message(\"refresh\", {});\n",
       "    };\n",
       "}\n",
       "\n",
       "mpl.figure.prototype.handle_rubberband = function(fig, msg) {\n",
       "    var x0 = msg['x0'] / mpl.ratio;\n",
       "    var y0 = (fig.canvas.height - msg['y0']) / mpl.ratio;\n",
       "    var x1 = msg['x1'] / mpl.ratio;\n",
       "    var y1 = (fig.canvas.height - msg['y1']) / mpl.ratio;\n",
       "    x0 = Math.floor(x0) + 0.5;\n",
       "    y0 = Math.floor(y0) + 0.5;\n",
       "    x1 = Math.floor(x1) + 0.5;\n",
       "    y1 = Math.floor(y1) + 0.5;\n",
       "    var min_x = Math.min(x0, x1);\n",
       "    var min_y = Math.min(y0, y1);\n",
       "    var width = Math.abs(x1 - x0);\n",
       "    var height = Math.abs(y1 - y0);\n",
       "\n",
       "    fig.rubberband_context.clearRect(\n",
       "        0, 0, fig.canvas.width, fig.canvas.height);\n",
       "\n",
       "    fig.rubberband_context.strokeRect(min_x, min_y, width, height);\n",
       "}\n",
       "\n",
       "mpl.figure.prototype.handle_figure_label = function(fig, msg) {\n",
       "    // Updates the figure title.\n",
       "    fig.header.textContent = msg['label'];\n",
       "}\n",
       "\n",
       "mpl.figure.prototype.handle_cursor = function(fig, msg) {\n",
       "    var cursor = msg['cursor'];\n",
       "    switch(cursor)\n",
       "    {\n",
       "    case 0:\n",
       "        cursor = 'pointer';\n",
       "        break;\n",
       "    case 1:\n",
       "        cursor = 'default';\n",
       "        break;\n",
       "    case 2:\n",
       "        cursor = 'crosshair';\n",
       "        break;\n",
       "    case 3:\n",
       "        cursor = 'move';\n",
       "        break;\n",
       "    }\n",
       "    fig.rubberband_canvas.style.cursor = cursor;\n",
       "}\n",
       "\n",
       "mpl.figure.prototype.handle_message = function(fig, msg) {\n",
       "    fig.message.textContent = msg['message'];\n",
       "}\n",
       "\n",
       "mpl.figure.prototype.handle_draw = function(fig, msg) {\n",
       "    // Request the server to send over a new figure.\n",
       "    fig.send_draw_message();\n",
       "}\n",
       "\n",
       "mpl.figure.prototype.handle_image_mode = function(fig, msg) {\n",
       "    fig.image_mode = msg['mode'];\n",
       "}\n",
       "\n",
       "mpl.figure.prototype.updated_canvas_event = function() {\n",
       "    // Called whenever the canvas gets updated.\n",
       "    this.send_message(\"ack\", {});\n",
       "}\n",
       "\n",
       "// A function to construct a web socket function for onmessage handling.\n",
       "// Called in the figure constructor.\n",
       "mpl.figure.prototype._make_on_message_function = function(fig) {\n",
       "    return function socket_on_message(evt) {\n",
       "        if (evt.data instanceof Blob) {\n",
       "            /* FIXME: We get \"Resource interpreted as Image but\n",
       "             * transferred with MIME type text/plain:\" errors on\n",
       "             * Chrome.  But how to set the MIME type?  It doesn't seem\n",
       "             * to be part of the websocket stream */\n",
       "            evt.data.type = \"image/png\";\n",
       "\n",
       "            /* Free the memory for the previous frames */\n",
       "            if (fig.imageObj.src) {\n",
       "                (window.URL || window.webkitURL).revokeObjectURL(\n",
       "                    fig.imageObj.src);\n",
       "            }\n",
       "\n",
       "            fig.imageObj.src = (window.URL || window.webkitURL).createObjectURL(\n",
       "                evt.data);\n",
       "            fig.updated_canvas_event();\n",
       "            fig.waiting = false;\n",
       "            return;\n",
       "        }\n",
       "        else if (typeof evt.data === 'string' && evt.data.slice(0, 21) == \"data:image/png;base64\") {\n",
       "            fig.imageObj.src = evt.data;\n",
       "            fig.updated_canvas_event();\n",
       "            fig.waiting = false;\n",
       "            return;\n",
       "        }\n",
       "\n",
       "        var msg = JSON.parse(evt.data);\n",
       "        var msg_type = msg['type'];\n",
       "\n",
       "        // Call the  \"handle_{type}\" callback, which takes\n",
       "        // the figure and JSON message as its only arguments.\n",
       "        try {\n",
       "            var callback = fig[\"handle_\" + msg_type];\n",
       "        } catch (e) {\n",
       "            console.log(\"No handler for the '\" + msg_type + \"' message type: \", msg);\n",
       "            return;\n",
       "        }\n",
       "\n",
       "        if (callback) {\n",
       "            try {\n",
       "                // console.log(\"Handling '\" + msg_type + \"' message: \", msg);\n",
       "                callback(fig, msg);\n",
       "            } catch (e) {\n",
       "                console.log(\"Exception inside the 'handler_\" + msg_type + \"' callback:\", e, e.stack, msg);\n",
       "            }\n",
       "        }\n",
       "    };\n",
       "}\n",
       "\n",
       "// from http://stackoverflow.com/questions/1114465/getting-mouse-location-in-canvas\n",
       "mpl.findpos = function(e) {\n",
       "    //this section is from http://www.quirksmode.org/js/events_properties.html\n",
       "    var targ;\n",
       "    if (!e)\n",
       "        e = window.event;\n",
       "    if (e.target)\n",
       "        targ = e.target;\n",
       "    else if (e.srcElement)\n",
       "        targ = e.srcElement;\n",
       "    if (targ.nodeType == 3) // defeat Safari bug\n",
       "        targ = targ.parentNode;\n",
       "\n",
       "    // jQuery normalizes the pageX and pageY\n",
       "    // pageX,Y are the mouse positions relative to the document\n",
       "    // offset() returns the position of the element relative to the document\n",
       "    var x = e.pageX - $(targ).offset().left;\n",
       "    var y = e.pageY - $(targ).offset().top;\n",
       "\n",
       "    return {\"x\": x, \"y\": y};\n",
       "};\n",
       "\n",
       "/*\n",
       " * return a copy of an object with only non-object keys\n",
       " * we need this to avoid circular references\n",
       " * http://stackoverflow.com/a/24161582/3208463\n",
       " */\n",
       "function simpleKeys (original) {\n",
       "  return Object.keys(original).reduce(function (obj, key) {\n",
       "    if (typeof original[key] !== 'object')\n",
       "        obj[key] = original[key]\n",
       "    return obj;\n",
       "  }, {});\n",
       "}\n",
       "\n",
       "mpl.figure.prototype.mouse_event = function(event, name) {\n",
       "    var canvas_pos = mpl.findpos(event)\n",
       "\n",
       "    if (name === 'button_press')\n",
       "    {\n",
       "        this.canvas.focus();\n",
       "        this.canvas_div.focus();\n",
       "    }\n",
       "\n",
       "    var x = canvas_pos.x * mpl.ratio;\n",
       "    var y = canvas_pos.y * mpl.ratio;\n",
       "\n",
       "    this.send_message(name, {x: x, y: y, button: event.button,\n",
       "                             step: event.step,\n",
       "                             guiEvent: simpleKeys(event)});\n",
       "\n",
       "    /* This prevents the web browser from automatically changing to\n",
       "     * the text insertion cursor when the button is pressed.  We want\n",
       "     * to control all of the cursor setting manually through the\n",
       "     * 'cursor' event from matplotlib */\n",
       "    event.preventDefault();\n",
       "    return false;\n",
       "}\n",
       "\n",
       "mpl.figure.prototype._key_event_extra = function(event, name) {\n",
       "    // Handle any extra behaviour associated with a key event\n",
       "}\n",
       "\n",
       "mpl.figure.prototype.key_event = function(event, name) {\n",
       "\n",
       "    // Prevent repeat events\n",
       "    if (name == 'key_press')\n",
       "    {\n",
       "        if (event.which === this._key)\n",
       "            return;\n",
       "        else\n",
       "            this._key = event.which;\n",
       "    }\n",
       "    if (name == 'key_release')\n",
       "        this._key = null;\n",
       "\n",
       "    var value = '';\n",
       "    if (event.ctrlKey && event.which != 17)\n",
       "        value += \"ctrl+\";\n",
       "    if (event.altKey && event.which != 18)\n",
       "        value += \"alt+\";\n",
       "    if (event.shiftKey && event.which != 16)\n",
       "        value += \"shift+\";\n",
       "\n",
       "    value += 'k';\n",
       "    value += event.which.toString();\n",
       "\n",
       "    this._key_event_extra(event, name);\n",
       "\n",
       "    this.send_message(name, {key: value,\n",
       "                             guiEvent: simpleKeys(event)});\n",
       "    return false;\n",
       "}\n",
       "\n",
       "mpl.figure.prototype.toolbar_button_onclick = function(name) {\n",
       "    if (name == 'download') {\n",
       "        this.handle_save(this, null);\n",
       "    } else {\n",
       "        this.send_message(\"toolbar_button\", {name: name});\n",
       "    }\n",
       "};\n",
       "\n",
       "mpl.figure.prototype.toolbar_button_onmouseover = function(tooltip) {\n",
       "    this.message.textContent = tooltip;\n",
       "};\n",
       "mpl.toolbar_items = [[\"Home\", \"Reset original view\", \"fa fa-home icon-home\", \"home\"], [\"Back\", \"Back to previous view\", \"fa fa-arrow-left icon-arrow-left\", \"back\"], [\"Forward\", \"Forward to next view\", \"fa fa-arrow-right icon-arrow-right\", \"forward\"], [\"\", \"\", \"\", \"\"], [\"Pan\", \"Pan axes with left mouse, zoom with right\", \"fa fa-arrows icon-move\", \"pan\"], [\"Zoom\", \"Zoom to rectangle\", \"fa fa-square-o icon-check-empty\", \"zoom\"], [\"\", \"\", \"\", \"\"], [\"Download\", \"Download plot\", \"fa fa-floppy-o icon-save\", \"download\"]];\n",
       "\n",
       "mpl.extensions = [\"eps\", \"jpeg\", \"pdf\", \"png\", \"ps\", \"raw\", \"svg\", \"tif\"];\n",
       "\n",
       "mpl.default_extension = \"png\";var comm_websocket_adapter = function(comm) {\n",
       "    // Create a \"websocket\"-like object which calls the given IPython comm\n",
       "    // object with the appropriate methods. Currently this is a non binary\n",
       "    // socket, so there is still some room for performance tuning.\n",
       "    var ws = {};\n",
       "\n",
       "    ws.close = function() {\n",
       "        comm.close()\n",
       "    };\n",
       "    ws.send = function(m) {\n",
       "        //console.log('sending', m);\n",
       "        comm.send(m);\n",
       "    };\n",
       "    // Register the callback with on_msg.\n",
       "    comm.on_msg(function(msg) {\n",
       "        //console.log('receiving', msg['content']['data'], msg);\n",
       "        // Pass the mpl event to the overridden (by mpl) onmessage function.\n",
       "        ws.onmessage(msg['content']['data'])\n",
       "    });\n",
       "    return ws;\n",
       "}\n",
       "\n",
       "mpl.mpl_figure_comm = function(comm, msg) {\n",
       "    // This is the function which gets called when the mpl process\n",
       "    // starts-up an IPython Comm through the \"matplotlib\" channel.\n",
       "\n",
       "    var id = msg.content.data.id;\n",
       "    // Get hold of the div created by the display call when the Comm\n",
       "    // socket was opened in Python.\n",
       "    var element = $(\"#\" + id);\n",
       "    var ws_proxy = comm_websocket_adapter(comm)\n",
       "\n",
       "    function ondownload(figure, format) {\n",
       "        window.open(figure.imageObj.src);\n",
       "    }\n",
       "\n",
       "    var fig = new mpl.figure(id, ws_proxy,\n",
       "                           ondownload,\n",
       "                           element.get(0));\n",
       "\n",
       "    // Call onopen now - mpl needs it, as it is assuming we've passed it a real\n",
       "    // web socket which is closed, not our websocket->open comm proxy.\n",
       "    ws_proxy.onopen();\n",
       "\n",
       "    fig.parent_element = element.get(0);\n",
       "    fig.cell_info = mpl.find_output_cell(\"<div id='\" + id + \"'></div>\");\n",
       "    if (!fig.cell_info) {\n",
       "        console.error(\"Failed to find cell for figure\", id, fig);\n",
       "        return;\n",
       "    }\n",
       "\n",
       "    var output_index = fig.cell_info[2]\n",
       "    var cell = fig.cell_info[0];\n",
       "\n",
       "};\n",
       "\n",
       "mpl.figure.prototype.handle_close = function(fig, msg) {\n",
       "    var width = fig.canvas.width/mpl.ratio\n",
       "    fig.root.unbind('remove')\n",
       "\n",
       "    // Update the output cell to use the data from the current canvas.\n",
       "    fig.push_to_output();\n",
       "    var dataURL = fig.canvas.toDataURL();\n",
       "    // Re-enable the keyboard manager in IPython - without this line, in FF,\n",
       "    // the notebook keyboard shortcuts fail.\n",
       "    IPython.keyboard_manager.enable()\n",
       "    $(fig.parent_element).html('<img src=\"' + dataURL + '\" width=\"' + width + '\">');\n",
       "    fig.close_ws(fig, msg);\n",
       "}\n",
       "\n",
       "mpl.figure.prototype.close_ws = function(fig, msg){\n",
       "    fig.send_message('closing', msg);\n",
       "    // fig.ws.close()\n",
       "}\n",
       "\n",
       "mpl.figure.prototype.push_to_output = function(remove_interactive) {\n",
       "    // Turn the data on the canvas into data in the output cell.\n",
       "    var width = this.canvas.width/mpl.ratio\n",
       "    var dataURL = this.canvas.toDataURL();\n",
       "    this.cell_info[1]['text/html'] = '<img src=\"' + dataURL + '\" width=\"' + width + '\">';\n",
       "}\n",
       "\n",
       "mpl.figure.prototype.updated_canvas_event = function() {\n",
       "    // Tell IPython that the notebook contents must change.\n",
       "    IPython.notebook.set_dirty(true);\n",
       "    this.send_message(\"ack\", {});\n",
       "    var fig = this;\n",
       "    // Wait a second, then push the new image to the DOM so\n",
       "    // that it is saved nicely (might be nice to debounce this).\n",
       "    setTimeout(function () { fig.push_to_output() }, 1000);\n",
       "}\n",
       "\n",
       "mpl.figure.prototype._init_toolbar = function() {\n",
       "    var fig = this;\n",
       "\n",
       "    var nav_element = $('<div/>')\n",
       "    nav_element.attr('style', 'width: 100%');\n",
       "    this.root.append(nav_element);\n",
       "\n",
       "    // Define a callback function for later on.\n",
       "    function toolbar_event(event) {\n",
       "        return fig.toolbar_button_onclick(event['data']);\n",
       "    }\n",
       "    function toolbar_mouse_event(event) {\n",
       "        return fig.toolbar_button_onmouseover(event['data']);\n",
       "    }\n",
       "\n",
       "    for(var toolbar_ind in mpl.toolbar_items){\n",
       "        var name = mpl.toolbar_items[toolbar_ind][0];\n",
       "        var tooltip = mpl.toolbar_items[toolbar_ind][1];\n",
       "        var image = mpl.toolbar_items[toolbar_ind][2];\n",
       "        var method_name = mpl.toolbar_items[toolbar_ind][3];\n",
       "\n",
       "        if (!name) { continue; };\n",
       "\n",
       "        var button = $('<button class=\"btn btn-default\" href=\"#\" title=\"' + name + '\"><i class=\"fa ' + image + ' fa-lg\"></i></button>');\n",
       "        button.click(method_name, toolbar_event);\n",
       "        button.mouseover(tooltip, toolbar_mouse_event);\n",
       "        nav_element.append(button);\n",
       "    }\n",
       "\n",
       "    // Add the status bar.\n",
       "    var status_bar = $('<span class=\"mpl-message\" style=\"text-align:right; float: right;\"/>');\n",
       "    nav_element.append(status_bar);\n",
       "    this.message = status_bar[0];\n",
       "\n",
       "    // Add the close button to the window.\n",
       "    var buttongrp = $('<div class=\"btn-group inline pull-right\"></div>');\n",
       "    var button = $('<button class=\"btn btn-mini btn-primary\" href=\"#\" title=\"Stop Interaction\"><i class=\"fa fa-power-off icon-remove icon-large\"></i></button>');\n",
       "    button.click(function (evt) { fig.handle_close(fig, {}); } );\n",
       "    button.mouseover('Stop Interaction', toolbar_mouse_event);\n",
       "    buttongrp.append(button);\n",
       "    var titlebar = this.root.find($('.ui-dialog-titlebar'));\n",
       "    titlebar.prepend(buttongrp);\n",
       "}\n",
       "\n",
       "mpl.figure.prototype._root_extra_style = function(el){\n",
       "    var fig = this\n",
       "    el.on(\"remove\", function(){\n",
       "\tfig.close_ws(fig, {});\n",
       "    });\n",
       "}\n",
       "\n",
       "mpl.figure.prototype._canvas_extra_style = function(el){\n",
       "    // this is important to make the div 'focusable\n",
       "    el.attr('tabindex', 0)\n",
       "    // reach out to IPython and tell the keyboard manager to turn it's self\n",
       "    // off when our div gets focus\n",
       "\n",
       "    // location in version 3\n",
       "    if (IPython.notebook.keyboard_manager) {\n",
       "        IPython.notebook.keyboard_manager.register_events(el);\n",
       "    }\n",
       "    else {\n",
       "        // location in version 2\n",
       "        IPython.keyboard_manager.register_events(el);\n",
       "    }\n",
       "\n",
       "}\n",
       "\n",
       "mpl.figure.prototype._key_event_extra = function(event, name) {\n",
       "    var manager = IPython.notebook.keyboard_manager;\n",
       "    if (!manager)\n",
       "        manager = IPython.keyboard_manager;\n",
       "\n",
       "    // Check for shift+enter\n",
       "    if (event.shiftKey && event.which == 13) {\n",
       "        this.canvas_div.blur();\n",
       "        event.shiftKey = false;\n",
       "        // Send a \"J\" for go to next cell\n",
       "        event.which = 74;\n",
       "        event.keyCode = 74;\n",
       "        manager.command_mode();\n",
       "        manager.handle_keydown(event);\n",
       "    }\n",
       "}\n",
       "\n",
       "mpl.figure.prototype.handle_save = function(fig, msg) {\n",
       "    fig.ondownload(fig, null);\n",
       "}\n",
       "\n",
       "\n",
       "mpl.find_output_cell = function(html_output) {\n",
       "    // Return the cell and output element which can be found *uniquely* in the notebook.\n",
       "    // Note - this is a bit hacky, but it is done because the \"notebook_saving.Notebook\"\n",
       "    // IPython event is triggered only after the cells have been serialised, which for\n",
       "    // our purposes (turning an active figure into a static one), is too late.\n",
       "    var cells = IPython.notebook.get_cells();\n",
       "    var ncells = cells.length;\n",
       "    for (var i=0; i<ncells; i++) {\n",
       "        var cell = cells[i];\n",
       "        if (cell.cell_type === 'code'){\n",
       "            for (var j=0; j<cell.output_area.outputs.length; j++) {\n",
       "                var data = cell.output_area.outputs[j];\n",
       "                if (data.data) {\n",
       "                    // IPython >= 3 moved mimebundle to data attribute of output\n",
       "                    data = data.data;\n",
       "                }\n",
       "                if (data['text/html'] == html_output) {\n",
       "                    return [cell, data, j];\n",
       "                }\n",
       "            }\n",
       "        }\n",
       "    }\n",
       "}\n",
       "\n",
       "// Register the function which deals with the matplotlib target/channel.\n",
       "// The kernel may be null if the page has been refreshed.\n",
       "if (IPython.notebook.kernel != null) {\n",
       "    IPython.notebook.kernel.comm_manager.register_target('matplotlib', mpl.mpl_figure_comm);\n",
       "}\n"
      ],
      "text/plain": [
       "<IPython.core.display.Javascript object>"
      ]
     },
     "metadata": {},
     "output_type": "display_data"
    },
    {
     "data": {
      "text/html": [
       "<img src=\"data:image/png;base64,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\" width=\"432\">"
      ],
      "text/plain": [
       "<IPython.core.display.HTML object>"
      ]
     },
     "metadata": {},
     "output_type": "display_data"
    },
    {
     "data": {
      "text/plain": [
       "[<matplotlib.lines.Line2D at 0x197523a49e8>]"
      ]
     },
     "execution_count": 50,
     "metadata": {},
     "output_type": "execute_result"
    }
   ],
   "source": [
    "# backend 을 interactive 시각화를 할 수 있도록 설정 가능\n",
    "%matplotlib nbagg\n",
    "fig, ax = plt.subplots()\n",
    "ax.plot(sr)"
   ]
  },
  {
   "cell_type": "code",
   "execution_count": 51,
   "metadata": {
    "hidden": true
   },
   "outputs": [
    {
     "data": {
      "text/plain": [
       "Text(0.5, 1.0, 'Axes #1')"
      ]
     },
     "execution_count": 51,
     "metadata": {},
     "output_type": "execute_result"
    }
   ],
   "source": [
    "ax.set_title('Axes #1')"
   ]
  },
  {
   "cell_type": "code",
   "execution_count": 52,
   "metadata": {
    "hidden": true
   },
   "outputs": [
    {
     "data": {
      "text/plain": [
       "Text(0.5, 18.25, 'x-axis label')"
      ]
     },
     "execution_count": 52,
     "metadata": {},
     "output_type": "execute_result"
    }
   ],
   "source": [
    "ax.set_xlabel('x-axis label')"
   ]
  },
  {
   "cell_type": "markdown",
   "metadata": {},
   "source": [
    "### 3.4 <a href = https://matplotlib.org/users/customizing.html> matplotlib 설정 변경</a>\n",
    "\n",
    "<strong> 3.4.1 stylesheet 변경</strong>   \n",
    "   matplotlib을 통해 데이터 시각화할 때 적용되는 스타일을 변경 가능하며, 사용가능한 스타일시트 목록 및 샘플은 <a href= https://matplotlib.org/3.1.1/gallery/style_sheets/style_sheets_reference.html> 여기 </a>에서 확인 가능하다."
   ]
  },
  {
   "cell_type": "code",
   "execution_count": 5,
   "metadata": {},
   "outputs": [],
   "source": [
    "# 사용가능한 style 출력\n"
   ]
  },
  {
   "cell_type": "code",
   "execution_count": null,
   "metadata": {},
   "outputs": [],
   "source": []
  },
  {
   "cell_type": "code",
   "execution_count": null,
   "metadata": {},
   "outputs": [],
   "source": []
  },
  {
   "cell_type": "markdown",
   "metadata": {},
   "source": [
    "3.4.2 <strong> <i> matplotlibrc</i></strong> 파일 수정을 통한 파라미터 수정 \n",
    "- matplotlibrc 파일을 통해 figure 크기, axes의 폰트사이즈, 색상, 스타일 등 matplotlib의 모든 속성(property)들을 설정 가능하다. \n",
    "- 파일을 변경한 후 저장하면, 이후에는 변경된 설정이 계속 사용된다.\n",
    "- matplotlibrc 파일을 수정한 후에는 jupyter notebook을 재시작해야 수정 내용이 반영된다. \n"
   ]
  },
  {
   "cell_type": "markdown",
   "metadata": {},
   "source": [
    "matplotlibrc 파일의 위치를 찾으려면 matplotlib.matplot.lib_fname()를 수행하면 된다."
   ]
  },
  {
   "cell_type": "code",
   "execution_count": null,
   "metadata": {},
   "outputs": [],
   "source": []
  },
  {
   "cell_type": "code",
   "execution_count": null,
   "metadata": {},
   "outputs": [],
   "source": []
  },
  {
   "cell_type": "markdown",
   "metadata": {},
   "source": [
    "3.4.3 matplotlib.rcParams을 통한 동적 설정 변경\n",
    "\n",
    "- matplotlib의 설정 정보는 <strong> matplotlib.rcParams</strong>에 저장되어 있으며, rcParams는 <strong><i>사전(Dict)</i></strong> 타입니다.\n",
    "- rcParams 변경을 통해 동적으로 설정이 변경가능하며, 변경 즉시 반영된다. "
   ]
  },
  {
   "cell_type": "code",
   "execution_count": 13,
   "metadata": {},
   "outputs": [],
   "source": [
    "# 현재 전체 설정 정보 확인\n"
   ]
  },
  {
   "cell_type": "code",
   "execution_count": 14,
   "metadata": {
    "scrolled": true
   },
   "outputs": [],
   "source": [
    "# 특정 설정 정보 확인\n"
   ]
  },
  {
   "cell_type": "code",
   "execution_count": 15,
   "metadata": {},
   "outputs": [],
   "source": [
    "# 설정 변경\n"
   ]
  },
  {
   "cell_type": "markdown",
   "metadata": {},
   "source": [
    "### 3.5 <a href=https://pandas.pydata.org/pandas-docs/stable/generated/pandas.DataFrame.plot.html>Pandas의 plot() 함수를 통한 시각화</a>\n",
    "- pandas의 대표적인 데이터타입인 Series와 DataFrame은 plot() 함수를 제공하며 이를 통해 여러 차트를 그릴 수 있다.   \n",
    "- 내부적으로는 Series.plot()과 DataFrame.plot() 모두 matplotlib를 사용하며, 파라미터 인자에 따라 적절한 함수가 호출된다.  \n",
    "- matplotlib은 plot()은 line graph, bar()는 bar graph, hist()는 히스토그램 등 차트의 종류에 따라 다른 함수를 호출해야 하지만, pandas는 차트의 종류에 상관 없이, 차트를 그리는 함수는 plot()이며, kind 인자를 통해 차트의 종류를 설정할 수 있다.   \n",
    "- matplotlib의 함수들을 직접 사용하는 것보다 사용자 친화적인 인터페이스를 제공하지만, matplotlib의 모든 기능을 제공하지는 않으므로 약간의 불편함은 존재한다.\n"
   ]
  },
  {
   "cell_type": "code",
   "execution_count": 16,
   "metadata": {},
   "outputs": [
    {
     "data": {
      "text/html": [
       "<div>\n",
       "<style scoped>\n",
       "    .dataframe tbody tr th:only-of-type {\n",
       "        vertical-align: middle;\n",
       "    }\n",
       "\n",
       "    .dataframe tbody tr th {\n",
       "        vertical-align: top;\n",
       "    }\n",
       "\n",
       "    .dataframe thead th {\n",
       "        text-align: right;\n",
       "    }\n",
       "</style>\n",
       "<table border=\"1\" class=\"dataframe\">\n",
       "  <thead>\n",
       "    <tr style=\"text-align: right;\">\n",
       "      <th></th>\n",
       "      <th>서울</th>\n",
       "      <th>경기</th>\n",
       "      <th>충청</th>\n",
       "      <th>경상</th>\n",
       "      <th>전라</th>\n",
       "    </tr>\n",
       "  </thead>\n",
       "  <tbody>\n",
       "    <tr>\n",
       "      <th>2015</th>\n",
       "      <td>1053.5</td>\n",
       "      <td>1023</td>\n",
       "      <td>512</td>\n",
       "      <td>897</td>\n",
       "      <td>451</td>\n",
       "    </tr>\n",
       "    <tr>\n",
       "      <th>2016</th>\n",
       "      <td>1023.0</td>\n",
       "      <td>1067</td>\n",
       "      <td>489</td>\n",
       "      <td>872</td>\n",
       "      <td>421</td>\n",
       "    </tr>\n",
       "    <tr>\n",
       "      <th>2017</th>\n",
       "      <td>987.0</td>\n",
       "      <td>1123</td>\n",
       "      <td>487</td>\n",
       "      <td>811</td>\n",
       "      <td>399</td>\n",
       "    </tr>\n",
       "  </tbody>\n",
       "</table>\n",
       "</div>"
      ],
      "text/plain": [
       "          서울    경기   충청   경상   전라\n",
       "2015  1053.5  1023  512  897  451\n",
       "2016  1023.0  1067  489  872  421\n",
       "2017   987.0  1123  487  811  399"
      ]
     },
     "execution_count": 16,
     "metadata": {},
     "output_type": "execute_result"
    }
   ],
   "source": [
    "인구통계 = {'서울': [1053.5, 1023, 987],\n",
    "        '경기':[1023, 1067, 1123],\n",
    "        '충청':[512,489,487],\n",
    "        '경상':[897, 872, 811],\n",
    "        '전라':[451, 421, 399]\n",
    "      }\n",
    "df = DataFrame(인구통계)\n",
    "df.index = [2015, 2016, 2017]\n",
    "df"
   ]
  },
  {
   "cell_type": "markdown",
   "metadata": {},
   "source": [
    "기본 그리기 - <a href= https://matplotlib.org/api/_as_gen/matplotlib.lines.Line2D.html#matplotlib.lines.Line2D>line graph</a>"
   ]
  },
  {
   "cell_type": "code",
   "execution_count": null,
   "metadata": {
    "scrolled": true
   },
   "outputs": [],
   "source": []
  },
  {
   "cell_type": "markdown",
   "metadata": {},
   "source": [
    "<img src=\"img/예제실습/matplotlib인자.jpg\" alt=\" matplotlib\" style=\"width: 1200px;\"/>\n",
    "\n",
    "#### 색상: https://matplotlib.org/examples/color/named_colors.html\n",
    "#### 기타 스타일: https://matplotlib.org/api/_as_gen/matplotlib.lines.Line2D.html#matplotlib.lines.Line2D"
   ]
  },
  {
   "cell_type": "code",
   "execution_count": 20,
   "metadata": {},
   "outputs": [
    {
     "data": {
      "text/plain": [
       "array([<matplotlib.axes._subplots.AxesSubplot object at 0x00000185750DF748>,\n",
       "       <matplotlib.axes._subplots.AxesSubplot object at 0x0000018574FDE438>,\n",
       "       <matplotlib.axes._subplots.AxesSubplot object at 0x0000018574AFD4A8>],\n",
       "      dtype=object)"
      ]
     },
     "execution_count": 20,
     "metadata": {},
     "output_type": "execute_result"
    },
    {
     "data": {
      "image/png": "[encoded data removed]",
      "text/plain": [
       "<Figure size 600x400 with 3 Axes>"
      ]
     },
     "metadata": {},
     "output_type": "display_data"
    }
   ],
   "source": [
    "# 실습. 연도별 지역별 인구수 그래프 그리기\n"
   ]
  },
  {
   "cell_type": "markdown",
   "metadata": {},
   "source": [
    "### 3.6 matplotlib 기반 최신 시각화 라이브러리 소개\n",
    "1. <a href = https://seaborn.pydata.org/>seaborn</a>\n",
    "  - matplotlib을 기반으로 만들어진 시각화 라이브러리\n",
    "  - 디자인적으로 훨씬 세련됨.  \n",
    "  - matplotlib와 사용방식이 유사하므로 쉽고 빠르게 습득할 수 있음.\n",
    "\n",
    "\n",
    "2. <a href = https://bokeh.pydata.org/en/latest/>bokeh</a>\n",
    "  - 웹브라우저 상에서의 시각화에 효과적인 파이썬 인터랙티브 시각화 라이브러리\n",
    "  - 플롯을 html 파일로 export하여 이를 웹브라우저를 통해 확인할 수 있음.\n",
    "  - matplotlib와 비슷, jupyter와 호환이 잘 됨. \n",
    "\n",
    "\n",
    "3. <a href = https://github.com/python-visualization/folium>Folium </a>\n",
    "  - 지리적 데이터 시각화에 특화된 라이브러리 (leaflet.js 기반)\n",
    "  - 웹브라우저에서 확인 가능\n",
    "  - 지도 데이터 사용을 위해 선행되어야 하는 작업이 원래 매우 많은데, 이러한 선행작업을 간단화함.\n",
    "  - http://python-visualization.github.io/folium/docs-v0.5.0/\n",
    "  - http://pinkwink.kr/971"
   ]
  },
  {
   "cell_type": "markdown",
   "metadata": {},
   "source": [
    "### 3.7 왕좌의 게임 데이터 분석 및 시각화 실습\n",
    "#### 1) 데이터 적재\n",
    "- battless.csv : 전투의 이름, 발생년도, 공격/수비 정보(가문, 왕, 군대 규모 등)을 저장\n",
    "- deaths.csv : 캐릭터들의 이름, 성별 등 기본 정보와 사망 정보"
   ]
  },
  {
   "cell_type": "code",
   "execution_count": 118,
   "metadata": {},
   "outputs": [],
   "source": [
    "battles = pd.read_csv('data/data-society-game-of-thrones/battles.csv')\n",
    "death = pd.read_csv('data/data-society-game-of-thrones/character-deaths.csv')"
   ]
  },
  {
   "cell_type": "code",
   "execution_count": null,
   "metadata": {},
   "outputs": [],
   "source": []
  },
  {
   "cell_type": "code",
   "execution_count": null,
   "metadata": {},
   "outputs": [],
   "source": []
  },
  {
   "cell_type": "markdown",
   "metadata": {},
   "source": [
    "#### 2) 책의 챕터(Book of Death)별로 사망자 수 추이 시각화"
   ]
  },
  {
   "cell_type": "code",
   "execution_count": null,
   "metadata": {},
   "outputs": [],
   "source": []
  },
  {
   "cell_type": "code",
   "execution_count": null,
   "metadata": {},
   "outputs": [],
   "source": []
  },
  {
   "cell_type": "code",
   "execution_count": null,
   "metadata": {},
   "outputs": [],
   "source": []
  },
  {
   "cell_type": "code",
   "execution_count": null,
   "metadata": {},
   "outputs": [],
   "source": []
  },
  {
   "cell_type": "markdown",
   "metadata": {},
   "source": [
    "#### 3) 대규모 전투의  공격진영과 수비 진영의 숫자 시각화\n",
    "대규모 전투 = 공격과 수비 모두 합쳐서 10,000명 이상 참가한 전쟁"
   ]
  },
  {
   "cell_type": "code",
   "execution_count": null,
   "metadata": {},
   "outputs": [],
   "source": []
  },
  {
   "cell_type": "code",
   "execution_count": null,
   "metadata": {},
   "outputs": [],
   "source": []
  },
  {
   "cell_type": "code",
   "execution_count": null,
   "metadata": {},
   "outputs": [],
   "source": []
  },
  {
   "cell_type": "code",
   "execution_count": null,
   "metadata": {},
   "outputs": [],
   "source": []
  },
  {
   "cell_type": "markdown",
   "metadata": {},
   "source": [
    "#### (실습 #1) 가문 별로 전쟁을 참여한 횟수 시각화"
   ]
  },
  {
   "cell_type": "code",
   "execution_count": null,
   "metadata": {},
   "outputs": [],
   "source": []
  },
  {
   "cell_type": "code",
   "execution_count": null,
   "metadata": {},
   "outputs": [],
   "source": []
  },
  {
   "cell_type": "code",
   "execution_count": null,
   "metadata": {},
   "outputs": [],
   "source": []
  },
  {
   "cell_type": "markdown",
   "metadata": {},
   "source": [
    "#### (실습 #2) 년도별로 사망자의 숫자와 전쟁이 벌어진 횟수 시각화"
   ]
  },
  {
   "cell_type": "code",
   "execution_count": null,
   "metadata": {},
   "outputs": [],
   "source": []
  },
  {
   "cell_type": "code",
   "execution_count": null,
   "metadata": {},
   "outputs": [],
   "source": []
  },
  {
   "cell_type": "code",
   "execution_count": null,
   "metadata": {},
   "outputs": [],
   "source": []
  },
  {
   "cell_type": "code",
   "execution_count": null,
   "metadata": {},
   "outputs": [],
   "source": []
  },
  {
   "cell_type": "code",
   "execution_count": null,
   "metadata": {},
   "outputs": [],
   "source": []
  },
  {
   "cell_type": "code",
   "execution_count": null,
   "metadata": {},
   "outputs": [],
   "source": []
  }
 ],
 "metadata": {
  "kernelspec": {
   "display_name": "Python 3",
   "language": "python",
   "name": "python3"
  },
  "language_info": {
   "codemirror_mode": {
    "name": "ipython",
    "version": 3
   },
   "file_extension": ".py",
   "mimetype": "text/x-python",
   "name": "python",
   "nbconvert_exporter": "python",
   "pygments_lexer": "ipython3",
   "version": "3.7.3"
  },
  "toc": {
   "base_numbering": 1,
   "nav_menu": {},
   "number_sections": true,
   "sideBar": true,
   "skip_h1_title": false,
   "title_cell": "Table of Contents",
   "title_sidebar": "Contents",
   "toc_cell": false,
   "toc_position": {},
   "toc_section_display": true,
   "toc_window_display": false
  }
 },
 "nbformat": 4,
 "nbformat_minor": 2
}
